{
 "cells": [
  {
   "cell_type": "markdown",
   "id": "d4b4df0f",
   "metadata": {},
   "source": [
    "# Project Name - Netflix Movies and TV show \n",
    "\n",
    "project Type - EDA\n",
    "\n",
    "Contribution - Individual\n",
    "\n",
    "Name : Abhijna S Rao"
   ]
  },
  {
   "cell_type": "markdown",
   "id": "b895ae88",
   "metadata": {},
   "source": [
    "# Project Summary -\n",
    "\n",
    "Netflix is the world’s leading subscription-based streaming platform, offering a vast collection of movies, TV series, documentaries, and original content to over 200 million users across more than 190 countries. Known for revolutionizing the way people consume media, Netflix has shifted its strategy over the years to prioritize original and region-specific content to retain and grow its subscriber base.\n",
    "\n",
    "This project presents a comprehensive Exploratory Data Analysis (EDA) of the Netflix content catalog as of 2019. The dataset, sourced from Flixable (a third-party Netflix search engine), includes information about each title’s type (movie or TV show), country of availability, release year, cast, directors, and more.\n",
    "\n",
    "The goal of the project is to understand how Netflix has evolved its content strategy, including the growing emphasis on TV shows over movies, the distribution of content across different countries, and trends in content production over the years. It also includes a UMB rule analysis to simulate how users might interact with different types of content and identify patterns that could influence recommendation systems.\n",
    "\n",
    "By uncovering these insights, the project not only highlights Netflix’s global strategy and content shifts but also demonstrates how data-driven analysis can inform strategic decision-making in digital media platforms."
   ]
  },
  {
   "cell_type": "markdown",
   "id": "9d100dc6",
   "metadata": {},
   "source": [
    "# GitHub Link - \n",
    "\n",
    "**https://github.com/Raoabhijna/NetflixEDA_Project**\n"
   ]
  },
  {
   "cell_type": "markdown",
   "id": "2770f3e7",
   "metadata": {},
   "source": [
    "# Problem Statement -\n",
    "\n",
    "With over 200 million subscribers worldwide, Netflix constantly adjusts its content strategy. However, there has been a noticeable shift in the type of content offered—more TV shows and fewer movies. There's also limited clarity on what kind of content is available in different countries and how this distribution aligns with global user preferences. Without proper analysis, Netflix risks missing key opportunities for engagement and growth.\n",
    "\n",
    "**Business Objective -**\n",
    "The primary objective is to extract actionable insights from Netflix's catalog that help answer the following:\n",
    "\n",
    "- What types of content are most dominant?\n",
    "\n",
    "- How does content availability vary by country?\n",
    "\n",
    "- Has Netflix shifted its focus from movies to TV shows over time?\n",
    "\n",
    "- What behavioral patterns (via UMB rule analysis) can be observed that may influence user engagement?\n",
    "\n",
    "These insights can help in data-driven decision-making for content acquisition, regional licensing, and user personalization strategies."
   ]
  },
  {
   "cell_type": "markdown",
   "id": "57dba9cd",
   "metadata": {},
   "source": [
    "**Know Your Data**"
   ]
  },
  {
   "cell_type": "code",
   "execution_count": 1,
   "id": "df01411f",
   "metadata": {},
   "outputs": [],
   "source": [
    "# Import Libraries\n",
    "\n",
    "import pandas as pd\n",
    "import numpy as np\n",
    "import seaborn as sns\n",
    "import matplotlib.pyplot as plt"
   ]
  },
  {
   "cell_type": "code",
   "execution_count": 2,
   "id": "62ee7a2f",
   "metadata": {},
   "outputs": [],
   "source": [
    "# Load Dataset\n",
    "\n",
    "df = pd.read_csv(\"NETFLIX MOVIES AND TV SHOWS CLUSTERING.csv\")"
   ]
  },
  {
   "cell_type": "code",
   "execution_count": 3,
   "id": "43a37250",
   "metadata": {},
   "outputs": [
    {
     "data": {
      "text/html": [
       "<div>\n",
       "<style scoped>\n",
       "    .dataframe tbody tr th:only-of-type {\n",
       "        vertical-align: middle;\n",
       "    }\n",
       "\n",
       "    .dataframe tbody tr th {\n",
       "        vertical-align: top;\n",
       "    }\n",
       "\n",
       "    .dataframe thead th {\n",
       "        text-align: right;\n",
       "    }\n",
       "</style>\n",
       "<table border=\"1\" class=\"dataframe\">\n",
       "  <thead>\n",
       "    <tr style=\"text-align: right;\">\n",
       "      <th></th>\n",
       "      <th>show_id</th>\n",
       "      <th>type</th>\n",
       "      <th>title</th>\n",
       "      <th>director</th>\n",
       "      <th>cast</th>\n",
       "      <th>country</th>\n",
       "      <th>date_added</th>\n",
       "      <th>release_year</th>\n",
       "      <th>rating</th>\n",
       "      <th>duration</th>\n",
       "      <th>listed_in</th>\n",
       "      <th>description</th>\n",
       "    </tr>\n",
       "  </thead>\n",
       "  <tbody>\n",
       "    <tr>\n",
       "      <th>0</th>\n",
       "      <td>s1</td>\n",
       "      <td>TV Show</td>\n",
       "      <td>3%</td>\n",
       "      <td>NaN</td>\n",
       "      <td>João Miguel, Bianca Comparato, Michel Gomes, R...</td>\n",
       "      <td>Brazil</td>\n",
       "      <td>August 14, 2020</td>\n",
       "      <td>2020</td>\n",
       "      <td>TV-MA</td>\n",
       "      <td>4 Seasons</td>\n",
       "      <td>International TV Shows, TV Dramas, TV Sci-Fi &amp;...</td>\n",
       "      <td>In a future where the elite inhabit an island ...</td>\n",
       "    </tr>\n",
       "    <tr>\n",
       "      <th>1</th>\n",
       "      <td>s2</td>\n",
       "      <td>Movie</td>\n",
       "      <td>7:19</td>\n",
       "      <td>Jorge Michel Grau</td>\n",
       "      <td>Demián Bichir, Héctor Bonilla, Oscar Serrano, ...</td>\n",
       "      <td>Mexico</td>\n",
       "      <td>December 23, 2016</td>\n",
       "      <td>2016</td>\n",
       "      <td>TV-MA</td>\n",
       "      <td>93 min</td>\n",
       "      <td>Dramas, International Movies</td>\n",
       "      <td>After a devastating earthquake hits Mexico Cit...</td>\n",
       "    </tr>\n",
       "    <tr>\n",
       "      <th>2</th>\n",
       "      <td>s3</td>\n",
       "      <td>Movie</td>\n",
       "      <td>23:59</td>\n",
       "      <td>Gilbert Chan</td>\n",
       "      <td>Tedd Chan, Stella Chung, Henley Hii, Lawrence ...</td>\n",
       "      <td>Singapore</td>\n",
       "      <td>December 20, 2018</td>\n",
       "      <td>2011</td>\n",
       "      <td>R</td>\n",
       "      <td>78 min</td>\n",
       "      <td>Horror Movies, International Movies</td>\n",
       "      <td>When an army recruit is found dead, his fellow...</td>\n",
       "    </tr>\n",
       "    <tr>\n",
       "      <th>3</th>\n",
       "      <td>s4</td>\n",
       "      <td>Movie</td>\n",
       "      <td>9</td>\n",
       "      <td>Shane Acker</td>\n",
       "      <td>Elijah Wood, John C. Reilly, Jennifer Connelly...</td>\n",
       "      <td>United States</td>\n",
       "      <td>November 16, 2017</td>\n",
       "      <td>2009</td>\n",
       "      <td>PG-13</td>\n",
       "      <td>80 min</td>\n",
       "      <td>Action &amp; Adventure, Independent Movies, Sci-Fi...</td>\n",
       "      <td>In a postapocalyptic world, rag-doll robots hi...</td>\n",
       "    </tr>\n",
       "    <tr>\n",
       "      <th>4</th>\n",
       "      <td>s5</td>\n",
       "      <td>Movie</td>\n",
       "      <td>21</td>\n",
       "      <td>Robert Luketic</td>\n",
       "      <td>Jim Sturgess, Kevin Spacey, Kate Bosworth, Aar...</td>\n",
       "      <td>United States</td>\n",
       "      <td>January 1, 2020</td>\n",
       "      <td>2008</td>\n",
       "      <td>PG-13</td>\n",
       "      <td>123 min</td>\n",
       "      <td>Dramas</td>\n",
       "      <td>A brilliant group of students become card-coun...</td>\n",
       "    </tr>\n",
       "  </tbody>\n",
       "</table>\n",
       "</div>"
      ],
      "text/plain": [
       "  show_id     type  title           director  \\\n",
       "0      s1  TV Show     3%                NaN   \n",
       "1      s2    Movie   7:19  Jorge Michel Grau   \n",
       "2      s3    Movie  23:59       Gilbert Chan   \n",
       "3      s4    Movie      9        Shane Acker   \n",
       "4      s5    Movie     21     Robert Luketic   \n",
       "\n",
       "                                                cast        country  \\\n",
       "0  João Miguel, Bianca Comparato, Michel Gomes, R...         Brazil   \n",
       "1  Demián Bichir, Héctor Bonilla, Oscar Serrano, ...         Mexico   \n",
       "2  Tedd Chan, Stella Chung, Henley Hii, Lawrence ...      Singapore   \n",
       "3  Elijah Wood, John C. Reilly, Jennifer Connelly...  United States   \n",
       "4  Jim Sturgess, Kevin Spacey, Kate Bosworth, Aar...  United States   \n",
       "\n",
       "          date_added  release_year rating   duration  \\\n",
       "0    August 14, 2020          2020  TV-MA  4 Seasons   \n",
       "1  December 23, 2016          2016  TV-MA     93 min   \n",
       "2  December 20, 2018          2011      R     78 min   \n",
       "3  November 16, 2017          2009  PG-13     80 min   \n",
       "4    January 1, 2020          2008  PG-13    123 min   \n",
       "\n",
       "                                           listed_in  \\\n",
       "0  International TV Shows, TV Dramas, TV Sci-Fi &...   \n",
       "1                       Dramas, International Movies   \n",
       "2                Horror Movies, International Movies   \n",
       "3  Action & Adventure, Independent Movies, Sci-Fi...   \n",
       "4                                             Dramas   \n",
       "\n",
       "                                         description  \n",
       "0  In a future where the elite inhabit an island ...  \n",
       "1  After a devastating earthquake hits Mexico Cit...  \n",
       "2  When an army recruit is found dead, his fellow...  \n",
       "3  In a postapocalyptic world, rag-doll robots hi...  \n",
       "4  A brilliant group of students become card-coun...  "
      ]
     },
     "execution_count": 3,
     "metadata": {},
     "output_type": "execute_result"
    }
   ],
   "source": [
    "# Dataset First Look\n",
    "\n",
    "df.head()"
   ]
  },
  {
   "cell_type": "code",
   "execution_count": 4,
   "id": "d31e5b94",
   "metadata": {},
   "outputs": [
    {
     "data": {
      "text/html": [
       "<div>\n",
       "<style scoped>\n",
       "    .dataframe tbody tr th:only-of-type {\n",
       "        vertical-align: middle;\n",
       "    }\n",
       "\n",
       "    .dataframe tbody tr th {\n",
       "        vertical-align: top;\n",
       "    }\n",
       "\n",
       "    .dataframe thead th {\n",
       "        text-align: right;\n",
       "    }\n",
       "</style>\n",
       "<table border=\"1\" class=\"dataframe\">\n",
       "  <thead>\n",
       "    <tr style=\"text-align: right;\">\n",
       "      <th></th>\n",
       "      <th>show_id</th>\n",
       "      <th>type</th>\n",
       "      <th>title</th>\n",
       "      <th>director</th>\n",
       "      <th>cast</th>\n",
       "      <th>country</th>\n",
       "      <th>date_added</th>\n",
       "      <th>release_year</th>\n",
       "      <th>rating</th>\n",
       "      <th>duration</th>\n",
       "      <th>listed_in</th>\n",
       "      <th>description</th>\n",
       "    </tr>\n",
       "  </thead>\n",
       "  <tbody>\n",
       "    <tr>\n",
       "      <th>7782</th>\n",
       "      <td>s7783</td>\n",
       "      <td>Movie</td>\n",
       "      <td>Zozo</td>\n",
       "      <td>Josef Fares</td>\n",
       "      <td>Imad Creidi, Antoinette Turk, Elias Gergi, Car...</td>\n",
       "      <td>Sweden, Czech Republic, United Kingdom, Denmar...</td>\n",
       "      <td>October 19, 2020</td>\n",
       "      <td>2005</td>\n",
       "      <td>TV-MA</td>\n",
       "      <td>99 min</td>\n",
       "      <td>Dramas, International Movies</td>\n",
       "      <td>When Lebanon's Civil War deprives Zozo of his ...</td>\n",
       "    </tr>\n",
       "    <tr>\n",
       "      <th>7783</th>\n",
       "      <td>s7784</td>\n",
       "      <td>Movie</td>\n",
       "      <td>Zubaan</td>\n",
       "      <td>Mozez Singh</td>\n",
       "      <td>Vicky Kaushal, Sarah-Jane Dias, Raaghav Chanan...</td>\n",
       "      <td>India</td>\n",
       "      <td>March 2, 2019</td>\n",
       "      <td>2015</td>\n",
       "      <td>TV-14</td>\n",
       "      <td>111 min</td>\n",
       "      <td>Dramas, International Movies, Music &amp; Musicals</td>\n",
       "      <td>A scrappy but poor boy worms his way into a ty...</td>\n",
       "    </tr>\n",
       "    <tr>\n",
       "      <th>7784</th>\n",
       "      <td>s7785</td>\n",
       "      <td>Movie</td>\n",
       "      <td>Zulu Man in Japan</td>\n",
       "      <td>NaN</td>\n",
       "      <td>Nasty C</td>\n",
       "      <td>NaN</td>\n",
       "      <td>September 25, 2020</td>\n",
       "      <td>2019</td>\n",
       "      <td>TV-MA</td>\n",
       "      <td>44 min</td>\n",
       "      <td>Documentaries, International Movies, Music &amp; M...</td>\n",
       "      <td>In this documentary, South African rapper Nast...</td>\n",
       "    </tr>\n",
       "    <tr>\n",
       "      <th>7785</th>\n",
       "      <td>s7786</td>\n",
       "      <td>TV Show</td>\n",
       "      <td>Zumbo's Just Desserts</td>\n",
       "      <td>NaN</td>\n",
       "      <td>Adriano Zumbo, Rachel Khoo</td>\n",
       "      <td>Australia</td>\n",
       "      <td>October 31, 2020</td>\n",
       "      <td>2019</td>\n",
       "      <td>TV-PG</td>\n",
       "      <td>1 Season</td>\n",
       "      <td>International TV Shows, Reality TV</td>\n",
       "      <td>Dessert wizard Adriano Zumbo looks for the nex...</td>\n",
       "    </tr>\n",
       "    <tr>\n",
       "      <th>7786</th>\n",
       "      <td>s7787</td>\n",
       "      <td>Movie</td>\n",
       "      <td>ZZ TOP: THAT LITTLE OL' BAND FROM TEXAS</td>\n",
       "      <td>Sam Dunn</td>\n",
       "      <td>NaN</td>\n",
       "      <td>United Kingdom, Canada, United States</td>\n",
       "      <td>March 1, 2020</td>\n",
       "      <td>2019</td>\n",
       "      <td>TV-MA</td>\n",
       "      <td>90 min</td>\n",
       "      <td>Documentaries, Music &amp; Musicals</td>\n",
       "      <td>This documentary delves into the mystique behi...</td>\n",
       "    </tr>\n",
       "  </tbody>\n",
       "</table>\n",
       "</div>"
      ],
      "text/plain": [
       "     show_id     type                                    title     director  \\\n",
       "7782   s7783    Movie                                     Zozo  Josef Fares   \n",
       "7783   s7784    Movie                                   Zubaan  Mozez Singh   \n",
       "7784   s7785    Movie                        Zulu Man in Japan          NaN   \n",
       "7785   s7786  TV Show                    Zumbo's Just Desserts          NaN   \n",
       "7786   s7787    Movie  ZZ TOP: THAT LITTLE OL' BAND FROM TEXAS     Sam Dunn   \n",
       "\n",
       "                                                   cast  \\\n",
       "7782  Imad Creidi, Antoinette Turk, Elias Gergi, Car...   \n",
       "7783  Vicky Kaushal, Sarah-Jane Dias, Raaghav Chanan...   \n",
       "7784                                            Nasty C   \n",
       "7785                         Adriano Zumbo, Rachel Khoo   \n",
       "7786                                                NaN   \n",
       "\n",
       "                                                country          date_added  \\\n",
       "7782  Sweden, Czech Republic, United Kingdom, Denmar...    October 19, 2020   \n",
       "7783                                              India       March 2, 2019   \n",
       "7784                                                NaN  September 25, 2020   \n",
       "7785                                          Australia    October 31, 2020   \n",
       "7786              United Kingdom, Canada, United States       March 1, 2020   \n",
       "\n",
       "      release_year rating  duration  \\\n",
       "7782          2005  TV-MA    99 min   \n",
       "7783          2015  TV-14   111 min   \n",
       "7784          2019  TV-MA    44 min   \n",
       "7785          2019  TV-PG  1 Season   \n",
       "7786          2019  TV-MA    90 min   \n",
       "\n",
       "                                              listed_in  \\\n",
       "7782                       Dramas, International Movies   \n",
       "7783     Dramas, International Movies, Music & Musicals   \n",
       "7784  Documentaries, International Movies, Music & M...   \n",
       "7785                 International TV Shows, Reality TV   \n",
       "7786                    Documentaries, Music & Musicals   \n",
       "\n",
       "                                            description  \n",
       "7782  When Lebanon's Civil War deprives Zozo of his ...  \n",
       "7783  A scrappy but poor boy worms his way into a ty...  \n",
       "7784  In this documentary, South African rapper Nast...  \n",
       "7785  Dessert wizard Adriano Zumbo looks for the nex...  \n",
       "7786  This documentary delves into the mystique behi...  "
      ]
     },
     "execution_count": 4,
     "metadata": {},
     "output_type": "execute_result"
    }
   ],
   "source": [
    "df.tail()"
   ]
  },
  {
   "cell_type": "code",
   "execution_count": 5,
   "id": "9ef1b1ab",
   "metadata": {},
   "outputs": [
    {
     "data": {
      "text/plain": [
       "Index(['show_id', 'type', 'title', 'director', 'cast', 'country', 'date_added',\n",
       "       'release_year', 'rating', 'duration', 'listed_in', 'description'],\n",
       "      dtype='object')"
      ]
     },
     "execution_count": 5,
     "metadata": {},
     "output_type": "execute_result"
    }
   ],
   "source": [
    "df.columns"
   ]
  },
  {
   "cell_type": "code",
   "execution_count": 6,
   "id": "42f5aaec",
   "metadata": {},
   "outputs": [
    {
     "data": {
      "text/plain": [
       "(7787, 12)"
      ]
     },
     "execution_count": 6,
     "metadata": {},
     "output_type": "execute_result"
    }
   ],
   "source": [
    "df.shape"
   ]
  },
  {
   "cell_type": "code",
   "execution_count": 7,
   "id": "8d6a7047",
   "metadata": {},
   "outputs": [
    {
     "name": "stdout",
     "output_type": "stream",
     "text": [
      "<class 'pandas.core.frame.DataFrame'>\n",
      "RangeIndex: 7787 entries, 0 to 7786\n",
      "Data columns (total 12 columns):\n",
      " #   Column        Non-Null Count  Dtype \n",
      "---  ------        --------------  ----- \n",
      " 0   show_id       7787 non-null   object\n",
      " 1   type          7787 non-null   object\n",
      " 2   title         7787 non-null   object\n",
      " 3   director      5398 non-null   object\n",
      " 4   cast          7069 non-null   object\n",
      " 5   country       7280 non-null   object\n",
      " 6   date_added    7777 non-null   object\n",
      " 7   release_year  7787 non-null   int64 \n",
      " 8   rating        7780 non-null   object\n",
      " 9   duration      7787 non-null   object\n",
      " 10  listed_in     7787 non-null   object\n",
      " 11  description   7787 non-null   object\n",
      "dtypes: int64(1), object(11)\n",
      "memory usage: 730.2+ KB\n"
     ]
    }
   ],
   "source": [
    "# Dataset Info\n",
    "\n",
    "df.info()"
   ]
  },
  {
   "cell_type": "code",
   "execution_count": 8,
   "id": "27c013b7",
   "metadata": {},
   "outputs": [
    {
     "data": {
      "text/html": [
       "<div>\n",
       "<style scoped>\n",
       "    .dataframe tbody tr th:only-of-type {\n",
       "        vertical-align: middle;\n",
       "    }\n",
       "\n",
       "    .dataframe tbody tr th {\n",
       "        vertical-align: top;\n",
       "    }\n",
       "\n",
       "    .dataframe thead th {\n",
       "        text-align: right;\n",
       "    }\n",
       "</style>\n",
       "<table border=\"1\" class=\"dataframe\">\n",
       "  <thead>\n",
       "    <tr style=\"text-align: right;\">\n",
       "      <th></th>\n",
       "      <th>show_id</th>\n",
       "      <th>type</th>\n",
       "      <th>title</th>\n",
       "      <th>director</th>\n",
       "      <th>cast</th>\n",
       "      <th>country</th>\n",
       "      <th>date_added</th>\n",
       "      <th>release_year</th>\n",
       "      <th>rating</th>\n",
       "      <th>duration</th>\n",
       "      <th>listed_in</th>\n",
       "      <th>description</th>\n",
       "    </tr>\n",
       "  </thead>\n",
       "  <tbody>\n",
       "  </tbody>\n",
       "</table>\n",
       "</div>"
      ],
      "text/plain": [
       "Empty DataFrame\n",
       "Columns: [show_id, type, title, director, cast, country, date_added, release_year, rating, duration, listed_in, description]\n",
       "Index: []"
      ]
     },
     "execution_count": 8,
     "metadata": {},
     "output_type": "execute_result"
    }
   ],
   "source": [
    "# Dataset Duplicate Value Count\n",
    "\n",
    "df[df.duplicated()]"
   ]
  },
  {
   "cell_type": "code",
   "execution_count": 9,
   "id": "ab4b8d00",
   "metadata": {},
   "outputs": [
    {
     "data": {
      "text/plain": [
       "show_id            0\n",
       "type               0\n",
       "title              0\n",
       "director        2389\n",
       "cast             718\n",
       "country          507\n",
       "date_added        10\n",
       "release_year       0\n",
       "rating             7\n",
       "duration           0\n",
       "listed_in          0\n",
       "description        0\n",
       "dtype: int64"
      ]
     },
     "execution_count": 9,
     "metadata": {},
     "output_type": "execute_result"
    }
   ],
   "source": [
    "df.isna().sum()"
   ]
  },
  {
   "cell_type": "markdown",
   "id": "ed2d200f",
   "metadata": {},
   "source": [
    "**Understanding Your Variables**"
   ]
  },
  {
   "cell_type": "code",
   "execution_count": 10,
   "id": "d4b6b350",
   "metadata": {},
   "outputs": [
    {
     "data": {
      "text/plain": [
       "Index(['show_id', 'type', 'title', 'director', 'cast', 'country', 'date_added',\n",
       "       'release_year', 'rating', 'duration', 'listed_in', 'description'],\n",
       "      dtype='object')"
      ]
     },
     "execution_count": 10,
     "metadata": {},
     "output_type": "execute_result"
    }
   ],
   "source": [
    "# Dataset Columns\n",
    "\n",
    "df.columns"
   ]
  },
  {
   "cell_type": "code",
   "execution_count": 11,
   "id": "90d68d63",
   "metadata": {},
   "outputs": [
    {
     "data": {
      "text/html": [
       "<div>\n",
       "<style scoped>\n",
       "    .dataframe tbody tr th:only-of-type {\n",
       "        vertical-align: middle;\n",
       "    }\n",
       "\n",
       "    .dataframe tbody tr th {\n",
       "        vertical-align: top;\n",
       "    }\n",
       "\n",
       "    .dataframe thead th {\n",
       "        text-align: right;\n",
       "    }\n",
       "</style>\n",
       "<table border=\"1\" class=\"dataframe\">\n",
       "  <thead>\n",
       "    <tr style=\"text-align: right;\">\n",
       "      <th></th>\n",
       "      <th>release_year</th>\n",
       "    </tr>\n",
       "  </thead>\n",
       "  <tbody>\n",
       "    <tr>\n",
       "      <th>count</th>\n",
       "      <td>7787.000000</td>\n",
       "    </tr>\n",
       "    <tr>\n",
       "      <th>mean</th>\n",
       "      <td>2013.932580</td>\n",
       "    </tr>\n",
       "    <tr>\n",
       "      <th>std</th>\n",
       "      <td>8.757395</td>\n",
       "    </tr>\n",
       "    <tr>\n",
       "      <th>min</th>\n",
       "      <td>1925.000000</td>\n",
       "    </tr>\n",
       "    <tr>\n",
       "      <th>25%</th>\n",
       "      <td>2013.000000</td>\n",
       "    </tr>\n",
       "    <tr>\n",
       "      <th>50%</th>\n",
       "      <td>2017.000000</td>\n",
       "    </tr>\n",
       "    <tr>\n",
       "      <th>75%</th>\n",
       "      <td>2018.000000</td>\n",
       "    </tr>\n",
       "    <tr>\n",
       "      <th>max</th>\n",
       "      <td>2021.000000</td>\n",
       "    </tr>\n",
       "  </tbody>\n",
       "</table>\n",
       "</div>"
      ],
      "text/plain": [
       "       release_year\n",
       "count   7787.000000\n",
       "mean    2013.932580\n",
       "std        8.757395\n",
       "min     1925.000000\n",
       "25%     2013.000000\n",
       "50%     2017.000000\n",
       "75%     2018.000000\n",
       "max     2021.000000"
      ]
     },
     "execution_count": 11,
     "metadata": {},
     "output_type": "execute_result"
    }
   ],
   "source": [
    "# Dataset Describe\n",
    "\n",
    "df.describe()"
   ]
  },
  {
   "cell_type": "code",
   "execution_count": 12,
   "id": "6f719295",
   "metadata": {},
   "outputs": [
    {
     "data": {
      "text/html": [
       "<div>\n",
       "<style scoped>\n",
       "    .dataframe tbody tr th:only-of-type {\n",
       "        vertical-align: middle;\n",
       "    }\n",
       "\n",
       "    .dataframe tbody tr th {\n",
       "        vertical-align: top;\n",
       "    }\n",
       "\n",
       "    .dataframe thead th {\n",
       "        text-align: right;\n",
       "    }\n",
       "</style>\n",
       "<table border=\"1\" class=\"dataframe\">\n",
       "  <thead>\n",
       "    <tr style=\"text-align: right;\">\n",
       "      <th></th>\n",
       "      <th>show_id</th>\n",
       "      <th>type</th>\n",
       "      <th>title</th>\n",
       "      <th>director</th>\n",
       "      <th>cast</th>\n",
       "      <th>country</th>\n",
       "      <th>date_added</th>\n",
       "      <th>release_year</th>\n",
       "      <th>rating</th>\n",
       "      <th>duration</th>\n",
       "      <th>listed_in</th>\n",
       "      <th>description</th>\n",
       "    </tr>\n",
       "  </thead>\n",
       "  <tbody>\n",
       "    <tr>\n",
       "      <th>count</th>\n",
       "      <td>7787</td>\n",
       "      <td>7787</td>\n",
       "      <td>7787</td>\n",
       "      <td>5398</td>\n",
       "      <td>7069</td>\n",
       "      <td>7280</td>\n",
       "      <td>7777</td>\n",
       "      <td>7787.000000</td>\n",
       "      <td>7780</td>\n",
       "      <td>7787</td>\n",
       "      <td>7787</td>\n",
       "      <td>7787</td>\n",
       "    </tr>\n",
       "    <tr>\n",
       "      <th>unique</th>\n",
       "      <td>7787</td>\n",
       "      <td>2</td>\n",
       "      <td>7787</td>\n",
       "      <td>4049</td>\n",
       "      <td>6831</td>\n",
       "      <td>681</td>\n",
       "      <td>1565</td>\n",
       "      <td>NaN</td>\n",
       "      <td>14</td>\n",
       "      <td>216</td>\n",
       "      <td>492</td>\n",
       "      <td>7769</td>\n",
       "    </tr>\n",
       "    <tr>\n",
       "      <th>top</th>\n",
       "      <td>s1</td>\n",
       "      <td>Movie</td>\n",
       "      <td>3%</td>\n",
       "      <td>Raúl Campos, Jan Suter</td>\n",
       "      <td>David Attenborough</td>\n",
       "      <td>United States</td>\n",
       "      <td>January 1, 2020</td>\n",
       "      <td>NaN</td>\n",
       "      <td>TV-MA</td>\n",
       "      <td>1 Season</td>\n",
       "      <td>Documentaries</td>\n",
       "      <td>Multiple women report their husbands as missin...</td>\n",
       "    </tr>\n",
       "    <tr>\n",
       "      <th>freq</th>\n",
       "      <td>1</td>\n",
       "      <td>5377</td>\n",
       "      <td>1</td>\n",
       "      <td>18</td>\n",
       "      <td>18</td>\n",
       "      <td>2555</td>\n",
       "      <td>118</td>\n",
       "      <td>NaN</td>\n",
       "      <td>2863</td>\n",
       "      <td>1608</td>\n",
       "      <td>334</td>\n",
       "      <td>3</td>\n",
       "    </tr>\n",
       "    <tr>\n",
       "      <th>mean</th>\n",
       "      <td>NaN</td>\n",
       "      <td>NaN</td>\n",
       "      <td>NaN</td>\n",
       "      <td>NaN</td>\n",
       "      <td>NaN</td>\n",
       "      <td>NaN</td>\n",
       "      <td>NaN</td>\n",
       "      <td>2013.932580</td>\n",
       "      <td>NaN</td>\n",
       "      <td>NaN</td>\n",
       "      <td>NaN</td>\n",
       "      <td>NaN</td>\n",
       "    </tr>\n",
       "    <tr>\n",
       "      <th>std</th>\n",
       "      <td>NaN</td>\n",
       "      <td>NaN</td>\n",
       "      <td>NaN</td>\n",
       "      <td>NaN</td>\n",
       "      <td>NaN</td>\n",
       "      <td>NaN</td>\n",
       "      <td>NaN</td>\n",
       "      <td>8.757395</td>\n",
       "      <td>NaN</td>\n",
       "      <td>NaN</td>\n",
       "      <td>NaN</td>\n",
       "      <td>NaN</td>\n",
       "    </tr>\n",
       "    <tr>\n",
       "      <th>min</th>\n",
       "      <td>NaN</td>\n",
       "      <td>NaN</td>\n",
       "      <td>NaN</td>\n",
       "      <td>NaN</td>\n",
       "      <td>NaN</td>\n",
       "      <td>NaN</td>\n",
       "      <td>NaN</td>\n",
       "      <td>1925.000000</td>\n",
       "      <td>NaN</td>\n",
       "      <td>NaN</td>\n",
       "      <td>NaN</td>\n",
       "      <td>NaN</td>\n",
       "    </tr>\n",
       "    <tr>\n",
       "      <th>25%</th>\n",
       "      <td>NaN</td>\n",
       "      <td>NaN</td>\n",
       "      <td>NaN</td>\n",
       "      <td>NaN</td>\n",
       "      <td>NaN</td>\n",
       "      <td>NaN</td>\n",
       "      <td>NaN</td>\n",
       "      <td>2013.000000</td>\n",
       "      <td>NaN</td>\n",
       "      <td>NaN</td>\n",
       "      <td>NaN</td>\n",
       "      <td>NaN</td>\n",
       "    </tr>\n",
       "    <tr>\n",
       "      <th>50%</th>\n",
       "      <td>NaN</td>\n",
       "      <td>NaN</td>\n",
       "      <td>NaN</td>\n",
       "      <td>NaN</td>\n",
       "      <td>NaN</td>\n",
       "      <td>NaN</td>\n",
       "      <td>NaN</td>\n",
       "      <td>2017.000000</td>\n",
       "      <td>NaN</td>\n",
       "      <td>NaN</td>\n",
       "      <td>NaN</td>\n",
       "      <td>NaN</td>\n",
       "    </tr>\n",
       "    <tr>\n",
       "      <th>75%</th>\n",
       "      <td>NaN</td>\n",
       "      <td>NaN</td>\n",
       "      <td>NaN</td>\n",
       "      <td>NaN</td>\n",
       "      <td>NaN</td>\n",
       "      <td>NaN</td>\n",
       "      <td>NaN</td>\n",
       "      <td>2018.000000</td>\n",
       "      <td>NaN</td>\n",
       "      <td>NaN</td>\n",
       "      <td>NaN</td>\n",
       "      <td>NaN</td>\n",
       "    </tr>\n",
       "    <tr>\n",
       "      <th>max</th>\n",
       "      <td>NaN</td>\n",
       "      <td>NaN</td>\n",
       "      <td>NaN</td>\n",
       "      <td>NaN</td>\n",
       "      <td>NaN</td>\n",
       "      <td>NaN</td>\n",
       "      <td>NaN</td>\n",
       "      <td>2021.000000</td>\n",
       "      <td>NaN</td>\n",
       "      <td>NaN</td>\n",
       "      <td>NaN</td>\n",
       "      <td>NaN</td>\n",
       "    </tr>\n",
       "  </tbody>\n",
       "</table>\n",
       "</div>"
      ],
      "text/plain": [
       "       show_id   type title                director                cast  \\\n",
       "count     7787   7787  7787                    5398                7069   \n",
       "unique    7787      2  7787                    4049                6831   \n",
       "top         s1  Movie    3%  Raúl Campos, Jan Suter  David Attenborough   \n",
       "freq         1   5377     1                      18                  18   \n",
       "mean       NaN    NaN   NaN                     NaN                 NaN   \n",
       "std        NaN    NaN   NaN                     NaN                 NaN   \n",
       "min        NaN    NaN   NaN                     NaN                 NaN   \n",
       "25%        NaN    NaN   NaN                     NaN                 NaN   \n",
       "50%        NaN    NaN   NaN                     NaN                 NaN   \n",
       "75%        NaN    NaN   NaN                     NaN                 NaN   \n",
       "max        NaN    NaN   NaN                     NaN                 NaN   \n",
       "\n",
       "              country       date_added  release_year rating  duration  \\\n",
       "count            7280             7777   7787.000000   7780      7787   \n",
       "unique            681             1565           NaN     14       216   \n",
       "top     United States  January 1, 2020           NaN  TV-MA  1 Season   \n",
       "freq             2555              118           NaN   2863      1608   \n",
       "mean              NaN              NaN   2013.932580    NaN       NaN   \n",
       "std               NaN              NaN      8.757395    NaN       NaN   \n",
       "min               NaN              NaN   1925.000000    NaN       NaN   \n",
       "25%               NaN              NaN   2013.000000    NaN       NaN   \n",
       "50%               NaN              NaN   2017.000000    NaN       NaN   \n",
       "75%               NaN              NaN   2018.000000    NaN       NaN   \n",
       "max               NaN              NaN   2021.000000    NaN       NaN   \n",
       "\n",
       "            listed_in                                        description  \n",
       "count            7787                                               7787  \n",
       "unique            492                                               7769  \n",
       "top     Documentaries  Multiple women report their husbands as missin...  \n",
       "freq              334                                                  3  \n",
       "mean              NaN                                                NaN  \n",
       "std               NaN                                                NaN  \n",
       "min               NaN                                                NaN  \n",
       "25%               NaN                                                NaN  \n",
       "50%               NaN                                                NaN  \n",
       "75%               NaN                                                NaN  \n",
       "max               NaN                                                NaN  "
      ]
     },
     "execution_count": 12,
     "metadata": {},
     "output_type": "execute_result"
    }
   ],
   "source": [
    "df.describe(include = 'all')"
   ]
  },
  {
   "cell_type": "code",
   "execution_count": 13,
   "id": "ea552069",
   "metadata": {},
   "outputs": [
    {
     "data": {
      "text/html": [
       "<div>\n",
       "<style scoped>\n",
       "    .dataframe tbody tr th:only-of-type {\n",
       "        vertical-align: middle;\n",
       "    }\n",
       "\n",
       "    .dataframe tbody tr th {\n",
       "        vertical-align: top;\n",
       "    }\n",
       "\n",
       "    .dataframe thead th {\n",
       "        text-align: right;\n",
       "    }\n",
       "</style>\n",
       "<table border=\"1\" class=\"dataframe\">\n",
       "  <thead>\n",
       "    <tr style=\"text-align: right;\">\n",
       "      <th></th>\n",
       "      <th>show_id</th>\n",
       "      <th>type</th>\n",
       "      <th>title</th>\n",
       "      <th>director</th>\n",
       "      <th>cast</th>\n",
       "      <th>country</th>\n",
       "      <th>date_added</th>\n",
       "      <th>release_year</th>\n",
       "      <th>rating</th>\n",
       "      <th>duration</th>\n",
       "      <th>listed_in</th>\n",
       "      <th>description</th>\n",
       "    </tr>\n",
       "  </thead>\n",
       "  <tbody>\n",
       "    <tr>\n",
       "      <th>3177</th>\n",
       "      <td>s3178</td>\n",
       "      <td>Movie</td>\n",
       "      <td>Jimmy Carr: Funny Business</td>\n",
       "      <td>Sam Wrench</td>\n",
       "      <td>Jimmy Carr</td>\n",
       "      <td>United Kingdom</td>\n",
       "      <td>March 18, 2016</td>\n",
       "      <td>2016</td>\n",
       "      <td>TV-MA</td>\n",
       "      <td>62 min</td>\n",
       "      <td>Stand-Up Comedy</td>\n",
       "      <td>British comedian Jimmy Carr unleashes his dead...</td>\n",
       "    </tr>\n",
       "  </tbody>\n",
       "</table>\n",
       "</div>"
      ],
      "text/plain": [
       "     show_id   type                       title    director        cast  \\\n",
       "3177   s3178  Movie  Jimmy Carr: Funny Business  Sam Wrench  Jimmy Carr   \n",
       "\n",
       "             country      date_added  release_year rating duration  \\\n",
       "3177  United Kingdom  March 18, 2016          2016  TV-MA   62 min   \n",
       "\n",
       "            listed_in                                        description  \n",
       "3177  Stand-Up Comedy  British comedian Jimmy Carr unleashes his dead...  "
      ]
     },
     "execution_count": 13,
     "metadata": {},
     "output_type": "execute_result"
    }
   ],
   "source": [
    "df.sample()"
   ]
  },
  {
   "cell_type": "code",
   "execution_count": 14,
   "id": "0d4d5ef5",
   "metadata": {},
   "outputs": [
    {
     "data": {
      "text/plain": [
       "show_id         object\n",
       "type            object\n",
       "title           object\n",
       "director        object\n",
       "cast            object\n",
       "country         object\n",
       "date_added      object\n",
       "release_year     int64\n",
       "rating          object\n",
       "duration        object\n",
       "listed_in       object\n",
       "description     object\n",
       "dtype: object"
      ]
     },
     "execution_count": 14,
     "metadata": {},
     "output_type": "execute_result"
    }
   ],
   "source": [
    "df.dtypes"
   ]
  },
  {
   "cell_type": "markdown",
   "id": "7005d316",
   "metadata": {},
   "source": [
    "# Data Wrangling"
   ]
  },
  {
   "cell_type": "code",
   "execution_count": 15,
   "id": "3a53c641",
   "metadata": {},
   "outputs": [],
   "source": [
    "# Splits string values into lists and explodes them into separate rows for specified columns.\n",
    "\n",
    "unnesting = ['director', 'cast', 'listed_in','country']\n",
    "for column in unnesting:\n",
    "    df[column] = df[column].str.split(', ')\n",
    "    df = df.explode(column)"
   ]
  },
  {
   "cell_type": "code",
   "execution_count": 16,
   "id": "ecc15571",
   "metadata": {},
   "outputs": [
    {
     "data": {
      "text/plain": [
       "(176035, 12)"
      ]
     },
     "execution_count": 16,
     "metadata": {},
     "output_type": "execute_result"
    }
   ],
   "source": [
    "df.shape"
   ]
  },
  {
   "cell_type": "code",
   "execution_count": 17,
   "id": "7c408f22",
   "metadata": {},
   "outputs": [
    {
     "data": {
      "text/plain": [
       "show_id         object\n",
       "type            object\n",
       "title           object\n",
       "director        object\n",
       "cast            object\n",
       "country         object\n",
       "date_added      object\n",
       "release_year     int64\n",
       "rating          object\n",
       "duration        object\n",
       "listed_in       object\n",
       "description     object\n",
       "dtype: object"
      ]
     },
     "execution_count": 17,
     "metadata": {},
     "output_type": "execute_result"
    }
   ],
   "source": [
    "df.dtypes"
   ]
  },
  {
   "cell_type": "code",
   "execution_count": 18,
   "id": "0c5de2f6",
   "metadata": {},
   "outputs": [],
   "source": [
    "df.reset_index(drop=True,inplace=True)"
   ]
  },
  {
   "cell_type": "code",
   "execution_count": 19,
   "id": "03c22209",
   "metadata": {},
   "outputs": [
    {
     "data": {
      "text/html": [
       "<div>\n",
       "<style scoped>\n",
       "    .dataframe tbody tr th:only-of-type {\n",
       "        vertical-align: middle;\n",
       "    }\n",
       "\n",
       "    .dataframe tbody tr th {\n",
       "        vertical-align: top;\n",
       "    }\n",
       "\n",
       "    .dataframe thead th {\n",
       "        text-align: right;\n",
       "    }\n",
       "</style>\n",
       "<table border=\"1\" class=\"dataframe\">\n",
       "  <thead>\n",
       "    <tr style=\"text-align: right;\">\n",
       "      <th></th>\n",
       "      <th>show_id</th>\n",
       "      <th>type</th>\n",
       "      <th>title</th>\n",
       "      <th>director</th>\n",
       "      <th>cast</th>\n",
       "      <th>country</th>\n",
       "      <th>date_added</th>\n",
       "      <th>release_year</th>\n",
       "      <th>rating</th>\n",
       "      <th>duration</th>\n",
       "      <th>listed_in</th>\n",
       "      <th>description</th>\n",
       "    </tr>\n",
       "  </thead>\n",
       "  <tbody>\n",
       "    <tr>\n",
       "      <th>0</th>\n",
       "      <td>s1</td>\n",
       "      <td>TV Show</td>\n",
       "      <td>3%</td>\n",
       "      <td>NaN</td>\n",
       "      <td>João Miguel</td>\n",
       "      <td>Brazil</td>\n",
       "      <td>August 14, 2020</td>\n",
       "      <td>2020</td>\n",
       "      <td>TV-MA</td>\n",
       "      <td>4 Seasons</td>\n",
       "      <td>International TV Shows</td>\n",
       "      <td>In a future where the elite inhabit an island ...</td>\n",
       "    </tr>\n",
       "    <tr>\n",
       "      <th>1</th>\n",
       "      <td>s1</td>\n",
       "      <td>TV Show</td>\n",
       "      <td>3%</td>\n",
       "      <td>NaN</td>\n",
       "      <td>João Miguel</td>\n",
       "      <td>Brazil</td>\n",
       "      <td>August 14, 2020</td>\n",
       "      <td>2020</td>\n",
       "      <td>TV-MA</td>\n",
       "      <td>4 Seasons</td>\n",
       "      <td>TV Dramas</td>\n",
       "      <td>In a future where the elite inhabit an island ...</td>\n",
       "    </tr>\n",
       "    <tr>\n",
       "      <th>2</th>\n",
       "      <td>s1</td>\n",
       "      <td>TV Show</td>\n",
       "      <td>3%</td>\n",
       "      <td>NaN</td>\n",
       "      <td>João Miguel</td>\n",
       "      <td>Brazil</td>\n",
       "      <td>August 14, 2020</td>\n",
       "      <td>2020</td>\n",
       "      <td>TV-MA</td>\n",
       "      <td>4 Seasons</td>\n",
       "      <td>TV Sci-Fi &amp; Fantasy</td>\n",
       "      <td>In a future where the elite inhabit an island ...</td>\n",
       "    </tr>\n",
       "    <tr>\n",
       "      <th>3</th>\n",
       "      <td>s1</td>\n",
       "      <td>TV Show</td>\n",
       "      <td>3%</td>\n",
       "      <td>NaN</td>\n",
       "      <td>Bianca Comparato</td>\n",
       "      <td>Brazil</td>\n",
       "      <td>August 14, 2020</td>\n",
       "      <td>2020</td>\n",
       "      <td>TV-MA</td>\n",
       "      <td>4 Seasons</td>\n",
       "      <td>International TV Shows</td>\n",
       "      <td>In a future where the elite inhabit an island ...</td>\n",
       "    </tr>\n",
       "    <tr>\n",
       "      <th>4</th>\n",
       "      <td>s1</td>\n",
       "      <td>TV Show</td>\n",
       "      <td>3%</td>\n",
       "      <td>NaN</td>\n",
       "      <td>Bianca Comparato</td>\n",
       "      <td>Brazil</td>\n",
       "      <td>August 14, 2020</td>\n",
       "      <td>2020</td>\n",
       "      <td>TV-MA</td>\n",
       "      <td>4 Seasons</td>\n",
       "      <td>TV Dramas</td>\n",
       "      <td>In a future where the elite inhabit an island ...</td>\n",
       "    </tr>\n",
       "    <tr>\n",
       "      <th>...</th>\n",
       "      <td>...</td>\n",
       "      <td>...</td>\n",
       "      <td>...</td>\n",
       "      <td>...</td>\n",
       "      <td>...</td>\n",
       "      <td>...</td>\n",
       "      <td>...</td>\n",
       "      <td>...</td>\n",
       "      <td>...</td>\n",
       "      <td>...</td>\n",
       "      <td>...</td>\n",
       "      <td>...</td>\n",
       "    </tr>\n",
       "    <tr>\n",
       "      <th>176030</th>\n",
       "      <td>s7787</td>\n",
       "      <td>Movie</td>\n",
       "      <td>ZZ TOP: THAT LITTLE OL' BAND FROM TEXAS</td>\n",
       "      <td>Sam Dunn</td>\n",
       "      <td>NaN</td>\n",
       "      <td>Canada</td>\n",
       "      <td>March 1, 2020</td>\n",
       "      <td>2019</td>\n",
       "      <td>TV-MA</td>\n",
       "      <td>90 min</td>\n",
       "      <td>Documentaries</td>\n",
       "      <td>This documentary delves into the mystique behi...</td>\n",
       "    </tr>\n",
       "    <tr>\n",
       "      <th>176031</th>\n",
       "      <td>s7787</td>\n",
       "      <td>Movie</td>\n",
       "      <td>ZZ TOP: THAT LITTLE OL' BAND FROM TEXAS</td>\n",
       "      <td>Sam Dunn</td>\n",
       "      <td>NaN</td>\n",
       "      <td>United States</td>\n",
       "      <td>March 1, 2020</td>\n",
       "      <td>2019</td>\n",
       "      <td>TV-MA</td>\n",
       "      <td>90 min</td>\n",
       "      <td>Documentaries</td>\n",
       "      <td>This documentary delves into the mystique behi...</td>\n",
       "    </tr>\n",
       "    <tr>\n",
       "      <th>176032</th>\n",
       "      <td>s7787</td>\n",
       "      <td>Movie</td>\n",
       "      <td>ZZ TOP: THAT LITTLE OL' BAND FROM TEXAS</td>\n",
       "      <td>Sam Dunn</td>\n",
       "      <td>NaN</td>\n",
       "      <td>United Kingdom</td>\n",
       "      <td>March 1, 2020</td>\n",
       "      <td>2019</td>\n",
       "      <td>TV-MA</td>\n",
       "      <td>90 min</td>\n",
       "      <td>Music &amp; Musicals</td>\n",
       "      <td>This documentary delves into the mystique behi...</td>\n",
       "    </tr>\n",
       "    <tr>\n",
       "      <th>176033</th>\n",
       "      <td>s7787</td>\n",
       "      <td>Movie</td>\n",
       "      <td>ZZ TOP: THAT LITTLE OL' BAND FROM TEXAS</td>\n",
       "      <td>Sam Dunn</td>\n",
       "      <td>NaN</td>\n",
       "      <td>Canada</td>\n",
       "      <td>March 1, 2020</td>\n",
       "      <td>2019</td>\n",
       "      <td>TV-MA</td>\n",
       "      <td>90 min</td>\n",
       "      <td>Music &amp; Musicals</td>\n",
       "      <td>This documentary delves into the mystique behi...</td>\n",
       "    </tr>\n",
       "    <tr>\n",
       "      <th>176034</th>\n",
       "      <td>s7787</td>\n",
       "      <td>Movie</td>\n",
       "      <td>ZZ TOP: THAT LITTLE OL' BAND FROM TEXAS</td>\n",
       "      <td>Sam Dunn</td>\n",
       "      <td>NaN</td>\n",
       "      <td>United States</td>\n",
       "      <td>March 1, 2020</td>\n",
       "      <td>2019</td>\n",
       "      <td>TV-MA</td>\n",
       "      <td>90 min</td>\n",
       "      <td>Music &amp; Musicals</td>\n",
       "      <td>This documentary delves into the mystique behi...</td>\n",
       "    </tr>\n",
       "  </tbody>\n",
       "</table>\n",
       "<p>176035 rows × 12 columns</p>\n",
       "</div>"
      ],
      "text/plain": [
       "       show_id     type                                    title  director  \\\n",
       "0           s1  TV Show                                       3%       NaN   \n",
       "1           s1  TV Show                                       3%       NaN   \n",
       "2           s1  TV Show                                       3%       NaN   \n",
       "3           s1  TV Show                                       3%       NaN   \n",
       "4           s1  TV Show                                       3%       NaN   \n",
       "...        ...      ...                                      ...       ...   \n",
       "176030   s7787    Movie  ZZ TOP: THAT LITTLE OL' BAND FROM TEXAS  Sam Dunn   \n",
       "176031   s7787    Movie  ZZ TOP: THAT LITTLE OL' BAND FROM TEXAS  Sam Dunn   \n",
       "176032   s7787    Movie  ZZ TOP: THAT LITTLE OL' BAND FROM TEXAS  Sam Dunn   \n",
       "176033   s7787    Movie  ZZ TOP: THAT LITTLE OL' BAND FROM TEXAS  Sam Dunn   \n",
       "176034   s7787    Movie  ZZ TOP: THAT LITTLE OL' BAND FROM TEXAS  Sam Dunn   \n",
       "\n",
       "                    cast         country       date_added  release_year  \\\n",
       "0            João Miguel          Brazil  August 14, 2020          2020   \n",
       "1            João Miguel          Brazil  August 14, 2020          2020   \n",
       "2            João Miguel          Brazil  August 14, 2020          2020   \n",
       "3       Bianca Comparato          Brazil  August 14, 2020          2020   \n",
       "4       Bianca Comparato          Brazil  August 14, 2020          2020   \n",
       "...                  ...             ...              ...           ...   \n",
       "176030               NaN          Canada    March 1, 2020          2019   \n",
       "176031               NaN   United States    March 1, 2020          2019   \n",
       "176032               NaN  United Kingdom    March 1, 2020          2019   \n",
       "176033               NaN          Canada    March 1, 2020          2019   \n",
       "176034               NaN   United States    March 1, 2020          2019   \n",
       "\n",
       "       rating   duration               listed_in  \\\n",
       "0       TV-MA  4 Seasons  International TV Shows   \n",
       "1       TV-MA  4 Seasons               TV Dramas   \n",
       "2       TV-MA  4 Seasons     TV Sci-Fi & Fantasy   \n",
       "3       TV-MA  4 Seasons  International TV Shows   \n",
       "4       TV-MA  4 Seasons               TV Dramas   \n",
       "...       ...        ...                     ...   \n",
       "176030  TV-MA     90 min           Documentaries   \n",
       "176031  TV-MA     90 min           Documentaries   \n",
       "176032  TV-MA     90 min        Music & Musicals   \n",
       "176033  TV-MA     90 min        Music & Musicals   \n",
       "176034  TV-MA     90 min        Music & Musicals   \n",
       "\n",
       "                                              description  \n",
       "0       In a future where the elite inhabit an island ...  \n",
       "1       In a future where the elite inhabit an island ...  \n",
       "2       In a future where the elite inhabit an island ...  \n",
       "3       In a future where the elite inhabit an island ...  \n",
       "4       In a future where the elite inhabit an island ...  \n",
       "...                                                   ...  \n",
       "176030  This documentary delves into the mystique behi...  \n",
       "176031  This documentary delves into the mystique behi...  \n",
       "176032  This documentary delves into the mystique behi...  \n",
       "176033  This documentary delves into the mystique behi...  \n",
       "176034  This documentary delves into the mystique behi...  \n",
       "\n",
       "[176035 rows x 12 columns]"
      ]
     },
     "execution_count": 19,
     "metadata": {},
     "output_type": "execute_result"
    }
   ],
   "source": [
    "df"
   ]
  },
  {
   "cell_type": "code",
   "execution_count": 20,
   "id": "a3e2ca77",
   "metadata": {},
   "outputs": [
    {
     "data": {
      "image/png": "[encoded data removed]",
      "text/plain": [
       "<Figure size 1400x800 with 2 Axes>"
      ]
     },
     "metadata": {},
     "output_type": "display_data"
    }
   ],
   "source": [
    "#Treating Null Values\n",
    "\n",
    "plt.figure(figsize=(14,8))\n",
    "sns.heatmap(df.isnull())\n",
    "plt.title('Visual Check of Nulls',fontsize=20)\n",
    "plt.show()"
   ]
  },
  {
   "cell_type": "code",
   "execution_count": 21,
   "id": "8716c5fa",
   "metadata": {},
   "outputs": [
    {
     "data": {
      "text/plain": [
       "director        45995\n",
       "country          5947\n",
       "cast             1867\n",
       "date_added        158\n",
       "rating             70\n",
       "show_id             0\n",
       "type                0\n",
       "title               0\n",
       "release_year        0\n",
       "duration            0\n",
       "listed_in           0\n",
       "description         0\n",
       "dtype: int64"
      ]
     },
     "execution_count": 21,
     "metadata": {},
     "output_type": "execute_result"
    }
   ],
   "source": [
    "df.isna().sum().sort_values(ascending=False)"
   ]
  },
  {
   "cell_type": "code",
   "execution_count": 22,
   "id": "6d75cf01",
   "metadata": {},
   "outputs": [
    {
     "data": {
      "text/html": [
       "<div>\n",
       "<style scoped>\n",
       "    .dataframe tbody tr th:only-of-type {\n",
       "        vertical-align: middle;\n",
       "    }\n",
       "\n",
       "    .dataframe tbody tr th {\n",
       "        vertical-align: top;\n",
       "    }\n",
       "\n",
       "    .dataframe thead th {\n",
       "        text-align: right;\n",
       "    }\n",
       "</style>\n",
       "<table border=\"1\" class=\"dataframe\">\n",
       "  <thead>\n",
       "    <tr style=\"text-align: right;\">\n",
       "      <th></th>\n",
       "      <th>show_id</th>\n",
       "      <th>type</th>\n",
       "      <th>title</th>\n",
       "      <th>director</th>\n",
       "      <th>cast</th>\n",
       "      <th>country</th>\n",
       "      <th>date_added</th>\n",
       "      <th>release_year</th>\n",
       "      <th>rating</th>\n",
       "      <th>duration</th>\n",
       "      <th>listed_in</th>\n",
       "      <th>description</th>\n",
       "    </tr>\n",
       "  </thead>\n",
       "  <tbody>\n",
       "    <tr>\n",
       "      <th>5738</th>\n",
       "      <td>s259</td>\n",
       "      <td>TV Show</td>\n",
       "      <td>A Young Doctor's Notebook and Other Stories</td>\n",
       "      <td>NaN</td>\n",
       "      <td>Daniel Radcliffe</td>\n",
       "      <td>United Kingdom</td>\n",
       "      <td>NaN</td>\n",
       "      <td>2013</td>\n",
       "      <td>TV-MA</td>\n",
       "      <td>2 Seasons</td>\n",
       "      <td>British TV Shows</td>\n",
       "      <td>Set during the Russian Revolution, this comic ...</td>\n",
       "    </tr>\n",
       "    <tr>\n",
       "      <th>5739</th>\n",
       "      <td>s259</td>\n",
       "      <td>TV Show</td>\n",
       "      <td>A Young Doctor's Notebook and Other Stories</td>\n",
       "      <td>NaN</td>\n",
       "      <td>Daniel Radcliffe</td>\n",
       "      <td>United Kingdom</td>\n",
       "      <td>NaN</td>\n",
       "      <td>2013</td>\n",
       "      <td>TV-MA</td>\n",
       "      <td>2 Seasons</td>\n",
       "      <td>TV Comedies</td>\n",
       "      <td>Set during the Russian Revolution, this comic ...</td>\n",
       "    </tr>\n",
       "    <tr>\n",
       "      <th>5740</th>\n",
       "      <td>s259</td>\n",
       "      <td>TV Show</td>\n",
       "      <td>A Young Doctor's Notebook and Other Stories</td>\n",
       "      <td>NaN</td>\n",
       "      <td>Daniel Radcliffe</td>\n",
       "      <td>United Kingdom</td>\n",
       "      <td>NaN</td>\n",
       "      <td>2013</td>\n",
       "      <td>TV-MA</td>\n",
       "      <td>2 Seasons</td>\n",
       "      <td>TV Dramas</td>\n",
       "      <td>Set during the Russian Revolution, this comic ...</td>\n",
       "    </tr>\n",
       "    <tr>\n",
       "      <th>5741</th>\n",
       "      <td>s259</td>\n",
       "      <td>TV Show</td>\n",
       "      <td>A Young Doctor's Notebook and Other Stories</td>\n",
       "      <td>NaN</td>\n",
       "      <td>Jon Hamm</td>\n",
       "      <td>United Kingdom</td>\n",
       "      <td>NaN</td>\n",
       "      <td>2013</td>\n",
       "      <td>TV-MA</td>\n",
       "      <td>2 Seasons</td>\n",
       "      <td>British TV Shows</td>\n",
       "      <td>Set during the Russian Revolution, this comic ...</td>\n",
       "    </tr>\n",
       "    <tr>\n",
       "      <th>5742</th>\n",
       "      <td>s259</td>\n",
       "      <td>TV Show</td>\n",
       "      <td>A Young Doctor's Notebook and Other Stories</td>\n",
       "      <td>NaN</td>\n",
       "      <td>Jon Hamm</td>\n",
       "      <td>United Kingdom</td>\n",
       "      <td>NaN</td>\n",
       "      <td>2013</td>\n",
       "      <td>TV-MA</td>\n",
       "      <td>2 Seasons</td>\n",
       "      <td>TV Comedies</td>\n",
       "      <td>Set during the Russian Revolution, this comic ...</td>\n",
       "    </tr>\n",
       "    <tr>\n",
       "      <th>...</th>\n",
       "      <td>...</td>\n",
       "      <td>...</td>\n",
       "      <td>...</td>\n",
       "      <td>...</td>\n",
       "      <td>...</td>\n",
       "      <td>...</td>\n",
       "      <td>...</td>\n",
       "      <td>...</td>\n",
       "      <td>...</td>\n",
       "      <td>...</td>\n",
       "      <td>...</td>\n",
       "      <td>...</td>\n",
       "    </tr>\n",
       "    <tr>\n",
       "      <th>133767</th>\n",
       "      <td>s6066</td>\n",
       "      <td>TV Show</td>\n",
       "      <td>The Adventures of Figaro Pho</td>\n",
       "      <td>NaN</td>\n",
       "      <td>Charlotte Hamlyn</td>\n",
       "      <td>Australia</td>\n",
       "      <td>NaN</td>\n",
       "      <td>2015</td>\n",
       "      <td>TV-Y7</td>\n",
       "      <td>2 Seasons</td>\n",
       "      <td>TV Comedies</td>\n",
       "      <td>Imagine your worst fears, then multiply them: ...</td>\n",
       "    </tr>\n",
       "    <tr>\n",
       "      <th>133768</th>\n",
       "      <td>s6066</td>\n",
       "      <td>TV Show</td>\n",
       "      <td>The Adventures of Figaro Pho</td>\n",
       "      <td>NaN</td>\n",
       "      <td>Stavroula Mountzouris</td>\n",
       "      <td>Australia</td>\n",
       "      <td>NaN</td>\n",
       "      <td>2015</td>\n",
       "      <td>TV-Y7</td>\n",
       "      <td>2 Seasons</td>\n",
       "      <td>Kids' TV</td>\n",
       "      <td>Imagine your worst fears, then multiply them: ...</td>\n",
       "    </tr>\n",
       "    <tr>\n",
       "      <th>133769</th>\n",
       "      <td>s6066</td>\n",
       "      <td>TV Show</td>\n",
       "      <td>The Adventures of Figaro Pho</td>\n",
       "      <td>NaN</td>\n",
       "      <td>Stavroula Mountzouris</td>\n",
       "      <td>Australia</td>\n",
       "      <td>NaN</td>\n",
       "      <td>2015</td>\n",
       "      <td>TV-Y7</td>\n",
       "      <td>2 Seasons</td>\n",
       "      <td>TV Comedies</td>\n",
       "      <td>Imagine your worst fears, then multiply them: ...</td>\n",
       "    </tr>\n",
       "    <tr>\n",
       "      <th>133770</th>\n",
       "      <td>s6066</td>\n",
       "      <td>TV Show</td>\n",
       "      <td>The Adventures of Figaro Pho</td>\n",
       "      <td>NaN</td>\n",
       "      <td>Aletheia Burney</td>\n",
       "      <td>Australia</td>\n",
       "      <td>NaN</td>\n",
       "      <td>2015</td>\n",
       "      <td>TV-Y7</td>\n",
       "      <td>2 Seasons</td>\n",
       "      <td>Kids' TV</td>\n",
       "      <td>Imagine your worst fears, then multiply them: ...</td>\n",
       "    </tr>\n",
       "    <tr>\n",
       "      <th>133771</th>\n",
       "      <td>s6066</td>\n",
       "      <td>TV Show</td>\n",
       "      <td>The Adventures of Figaro Pho</td>\n",
       "      <td>NaN</td>\n",
       "      <td>Aletheia Burney</td>\n",
       "      <td>Australia</td>\n",
       "      <td>NaN</td>\n",
       "      <td>2015</td>\n",
       "      <td>TV-Y7</td>\n",
       "      <td>2 Seasons</td>\n",
       "      <td>TV Comedies</td>\n",
       "      <td>Imagine your worst fears, then multiply them: ...</td>\n",
       "    </tr>\n",
       "  </tbody>\n",
       "</table>\n",
       "<p>158 rows × 12 columns</p>\n",
       "</div>"
      ],
      "text/plain": [
       "       show_id     type                                        title director  \\\n",
       "5738      s259  TV Show  A Young Doctor's Notebook and Other Stories      NaN   \n",
       "5739      s259  TV Show  A Young Doctor's Notebook and Other Stories      NaN   \n",
       "5740      s259  TV Show  A Young Doctor's Notebook and Other Stories      NaN   \n",
       "5741      s259  TV Show  A Young Doctor's Notebook and Other Stories      NaN   \n",
       "5742      s259  TV Show  A Young Doctor's Notebook and Other Stories      NaN   \n",
       "...        ...      ...                                          ...      ...   \n",
       "133767   s6066  TV Show                 The Adventures of Figaro Pho      NaN   \n",
       "133768   s6066  TV Show                 The Adventures of Figaro Pho      NaN   \n",
       "133769   s6066  TV Show                 The Adventures of Figaro Pho      NaN   \n",
       "133770   s6066  TV Show                 The Adventures of Figaro Pho      NaN   \n",
       "133771   s6066  TV Show                 The Adventures of Figaro Pho      NaN   \n",
       "\n",
       "                         cast         country date_added  release_year rating  \\\n",
       "5738         Daniel Radcliffe  United Kingdom        NaN          2013  TV-MA   \n",
       "5739         Daniel Radcliffe  United Kingdom        NaN          2013  TV-MA   \n",
       "5740         Daniel Radcliffe  United Kingdom        NaN          2013  TV-MA   \n",
       "5741                 Jon Hamm  United Kingdom        NaN          2013  TV-MA   \n",
       "5742                 Jon Hamm  United Kingdom        NaN          2013  TV-MA   \n",
       "...                       ...             ...        ...           ...    ...   \n",
       "133767       Charlotte Hamlyn       Australia        NaN          2015  TV-Y7   \n",
       "133768  Stavroula Mountzouris       Australia        NaN          2015  TV-Y7   \n",
       "133769  Stavroula Mountzouris       Australia        NaN          2015  TV-Y7   \n",
       "133770        Aletheia Burney       Australia        NaN          2015  TV-Y7   \n",
       "133771        Aletheia Burney       Australia        NaN          2015  TV-Y7   \n",
       "\n",
       "         duration         listed_in  \\\n",
       "5738    2 Seasons  British TV Shows   \n",
       "5739    2 Seasons       TV Comedies   \n",
       "5740    2 Seasons         TV Dramas   \n",
       "5741    2 Seasons  British TV Shows   \n",
       "5742    2 Seasons       TV Comedies   \n",
       "...           ...               ...   \n",
       "133767  2 Seasons       TV Comedies   \n",
       "133768  2 Seasons          Kids' TV   \n",
       "133769  2 Seasons       TV Comedies   \n",
       "133770  2 Seasons          Kids' TV   \n",
       "133771  2 Seasons       TV Comedies   \n",
       "\n",
       "                                              description  \n",
       "5738    Set during the Russian Revolution, this comic ...  \n",
       "5739    Set during the Russian Revolution, this comic ...  \n",
       "5740    Set during the Russian Revolution, this comic ...  \n",
       "5741    Set during the Russian Revolution, this comic ...  \n",
       "5742    Set during the Russian Revolution, this comic ...  \n",
       "...                                                   ...  \n",
       "133767  Imagine your worst fears, then multiply them: ...  \n",
       "133768  Imagine your worst fears, then multiply them: ...  \n",
       "133769  Imagine your worst fears, then multiply them: ...  \n",
       "133770  Imagine your worst fears, then multiply them: ...  \n",
       "133771  Imagine your worst fears, then multiply them: ...  \n",
       "\n",
       "[158 rows x 12 columns]"
      ]
     },
     "execution_count": 22,
     "metadata": {},
     "output_type": "execute_result"
    }
   ],
   "source": [
    "df[df.date_added.isna()]"
   ]
  },
  {
   "cell_type": "code",
   "execution_count": 23,
   "id": "0d9d3d22",
   "metadata": {},
   "outputs": [],
   "source": [
    "#Converting date_added column to datetime format\n",
    "\n",
    "df['date_added'] = pd.to_datetime(df['date_added'] ,format=\"%B %d, %Y\" , errors='coerce')"
   ]
  },
  {
   "cell_type": "code",
   "execution_count": 24,
   "id": "68121076",
   "metadata": {},
   "outputs": [],
   "source": [
    "# Fills missing values in the 'date_added' column with the most frequent date.\n",
    "\n",
    "df['date_added'].fillna(df['date_added'].mode()[0], inplace=True)"
   ]
  },
  {
   "cell_type": "code",
   "execution_count": 25,
   "id": "423b708c",
   "metadata": {},
   "outputs": [
    {
     "data": {
      "text/plain": [
       "director        45995\n",
       "country          5947\n",
       "cast             1867\n",
       "rating             70\n",
       "show_id             0\n",
       "type                0\n",
       "title               0\n",
       "date_added          0\n",
       "release_year        0\n",
       "duration            0\n",
       "listed_in           0\n",
       "description         0\n",
       "dtype: int64"
      ]
     },
     "execution_count": 25,
     "metadata": {},
     "output_type": "execute_result"
    }
   ],
   "source": [
    "df.isna().sum().sort_values(ascending=False)"
   ]
  },
  {
   "cell_type": "code",
   "execution_count": 26,
   "id": "2642efea",
   "metadata": {},
   "outputs": [
    {
     "data": {
      "text/plain": [
       "show_id                 object\n",
       "type                    object\n",
       "title                   object\n",
       "director                object\n",
       "cast                    object\n",
       "country                 object\n",
       "date_added      datetime64[ns]\n",
       "release_year             int64\n",
       "rating                  object\n",
       "duration                object\n",
       "listed_in               object\n",
       "description             object\n",
       "dtype: object"
      ]
     },
     "execution_count": 26,
     "metadata": {},
     "output_type": "execute_result"
    }
   ],
   "source": [
    "df.dtypes"
   ]
  },
  {
   "cell_type": "code",
   "execution_count": 27,
   "id": "bf41b2f4",
   "metadata": {},
   "outputs": [],
   "source": [
    "# Extract the year from the 'date_added' column and store it in a new column 'year_added'\n",
    "\n",
    "df['year_added'] = df['date_added'].dt.year"
   ]
  },
  {
   "cell_type": "code",
   "execution_count": 28,
   "id": "d60e50d3",
   "metadata": {},
   "outputs": [
    {
     "data": {
      "text/html": [
       "<div>\n",
       "<style scoped>\n",
       "    .dataframe tbody tr th:only-of-type {\n",
       "        vertical-align: middle;\n",
       "    }\n",
       "\n",
       "    .dataframe tbody tr th {\n",
       "        vertical-align: top;\n",
       "    }\n",
       "\n",
       "    .dataframe thead th {\n",
       "        text-align: right;\n",
       "    }\n",
       "</style>\n",
       "<table border=\"1\" class=\"dataframe\">\n",
       "  <thead>\n",
       "    <tr style=\"text-align: right;\">\n",
       "      <th></th>\n",
       "      <th>show_id</th>\n",
       "      <th>type</th>\n",
       "      <th>title</th>\n",
       "      <th>director</th>\n",
       "      <th>cast</th>\n",
       "      <th>country</th>\n",
       "      <th>date_added</th>\n",
       "      <th>release_year</th>\n",
       "      <th>rating</th>\n",
       "      <th>duration</th>\n",
       "      <th>listed_in</th>\n",
       "      <th>description</th>\n",
       "      <th>year_added</th>\n",
       "    </tr>\n",
       "  </thead>\n",
       "  <tbody>\n",
       "    <tr>\n",
       "      <th>69264</th>\n",
       "      <td>s3065</td>\n",
       "      <td>Movie</td>\n",
       "      <td>Ishq Vishk</td>\n",
       "      <td>Ken Ghosh</td>\n",
       "      <td>Shahid Kapoor</td>\n",
       "      <td>India</td>\n",
       "      <td>2020-09-28</td>\n",
       "      <td>2003</td>\n",
       "      <td>TV-PG</td>\n",
       "      <td>129 min</td>\n",
       "      <td>International Movies</td>\n",
       "      <td>When the duplicitous Rajiv expresses his love ...</td>\n",
       "      <td>2020</td>\n",
       "    </tr>\n",
       "  </tbody>\n",
       "</table>\n",
       "</div>"
      ],
      "text/plain": [
       "      show_id   type       title   director           cast country date_added  \\\n",
       "69264   s3065  Movie  Ishq Vishk  Ken Ghosh  Shahid Kapoor   India 2020-09-28   \n",
       "\n",
       "       release_year rating duration             listed_in  \\\n",
       "69264          2003  TV-PG  129 min  International Movies   \n",
       "\n",
       "                                             description  year_added  \n",
       "69264  When the duplicitous Rajiv expresses his love ...        2020  "
      ]
     },
     "execution_count": 28,
     "metadata": {},
     "output_type": "execute_result"
    }
   ],
   "source": [
    "df.sample()"
   ]
  },
  {
   "cell_type": "code",
   "execution_count": 29,
   "id": "0bf0a0e6",
   "metadata": {},
   "outputs": [
    {
     "data": {
      "text/plain": [
       "show_id                 object\n",
       "type                    object\n",
       "title                   object\n",
       "director                object\n",
       "cast                    object\n",
       "country                 object\n",
       "date_added      datetime64[ns]\n",
       "release_year             int64\n",
       "rating                  object\n",
       "duration                object\n",
       "listed_in               object\n",
       "description             object\n",
       "year_added               int64\n",
       "dtype: object"
      ]
     },
     "execution_count": 29,
     "metadata": {},
     "output_type": "execute_result"
    }
   ],
   "source": [
    "df.dtypes"
   ]
  },
  {
   "cell_type": "code",
   "execution_count": 30,
   "id": "24e1eb66",
   "metadata": {},
   "outputs": [
    {
     "data": {
      "text/plain": [
       "(176035, 13)"
      ]
     },
     "execution_count": 30,
     "metadata": {},
     "output_type": "execute_result"
    }
   ],
   "source": [
    "df.shape"
   ]
  },
  {
   "cell_type": "code",
   "execution_count": 31,
   "id": "4c592af9",
   "metadata": {},
   "outputs": [
    {
     "name": "stdout",
     "output_type": "stream",
     "text": [
      "<class 'pandas.core.frame.DataFrame'>\n",
      "RangeIndex: 176035 entries, 0 to 176034\n",
      "Data columns (total 13 columns):\n",
      " #   Column        Non-Null Count   Dtype         \n",
      "---  ------        --------------   -----         \n",
      " 0   show_id       176035 non-null  object        \n",
      " 1   type          176035 non-null  object        \n",
      " 2   title         176035 non-null  object        \n",
      " 3   director      130040 non-null  object        \n",
      " 4   cast          174168 non-null  object        \n",
      " 5   country       170088 non-null  object        \n",
      " 6   date_added    176035 non-null  datetime64[ns]\n",
      " 7   release_year  176035 non-null  int64         \n",
      " 8   rating        175965 non-null  object        \n",
      " 9   duration      176035 non-null  object        \n",
      " 10  listed_in     176035 non-null  object        \n",
      " 11  description   176035 non-null  object        \n",
      " 12  year_added    176035 non-null  int64         \n",
      "dtypes: datetime64[ns](1), int64(2), object(10)\n",
      "memory usage: 17.5+ MB\n"
     ]
    }
   ],
   "source": [
    "df.info()"
   ]
  },
  {
   "cell_type": "code",
   "execution_count": 32,
   "id": "2b1c48c9",
   "metadata": {},
   "outputs": [
    {
     "data": {
      "text/plain": [
       "director        45995\n",
       "country          5947\n",
       "cast             1867\n",
       "rating             70\n",
       "show_id             0\n",
       "type                0\n",
       "title               0\n",
       "date_added          0\n",
       "release_year        0\n",
       "duration            0\n",
       "listed_in           0\n",
       "description         0\n",
       "year_added          0\n",
       "dtype: int64"
      ]
     },
     "execution_count": 32,
     "metadata": {},
     "output_type": "execute_result"
    }
   ],
   "source": [
    "df.isna().sum().sort_values(ascending=False)"
   ]
  },
  {
   "cell_type": "code",
   "execution_count": 33,
   "id": "a8dba5a1",
   "metadata": {},
   "outputs": [],
   "source": [
    "# Fill missing values in the 'country','cast','director','rating' column with \"Unknown\"\n",
    "\n",
    "df[\"country\"].fillna(\"Unknown\",inplace=True)\n",
    "df[\"cast\"].fillna(\"Unknown actors\",inplace=True)\n",
    "df[\"director\"].fillna(\"Unknown director\",inplace=True)\n",
    "df[\"rating\"].fillna(\"Unknown\",inplace=True)"
   ]
  },
  {
   "cell_type": "code",
   "execution_count": 34,
   "id": "1fba5f9b",
   "metadata": {},
   "outputs": [
    {
     "data": {
      "text/plain": [
       "show_id         0\n",
       "type            0\n",
       "title           0\n",
       "director        0\n",
       "cast            0\n",
       "country         0\n",
       "date_added      0\n",
       "release_year    0\n",
       "rating          0\n",
       "duration        0\n",
       "listed_in       0\n",
       "description     0\n",
       "year_added      0\n",
       "dtype: int64"
      ]
     },
     "execution_count": 34,
     "metadata": {},
     "output_type": "execute_result"
    }
   ],
   "source": [
    "df.isna().sum()"
   ]
  },
  {
   "cell_type": "markdown",
   "id": "12c523e0",
   "metadata": {},
   "source": [
    "**4. Data Vizualization, Storytelling & Experimenting with charts : Understand the relationships between variables**"
   ]
  },
  {
   "cell_type": "code",
   "execution_count": 35,
   "id": "4827d973",
   "metadata": {},
   "outputs": [
    {
     "data": {
      "text/plain": [
       "Movie      126091\n",
       "TV Show     49944\n",
       "Name: type, dtype: int64"
      ]
     },
     "execution_count": 35,
     "metadata": {},
     "output_type": "execute_result"
    }
   ],
   "source": [
    "#separating movies and tv show data into seperate csv file and cleaning both the files\n",
    "\n",
    "df.type.value_counts()"
   ]
  },
  {
   "cell_type": "code",
   "execution_count": 36,
   "id": "654136e4",
   "metadata": {},
   "outputs": [],
   "source": [
    "#movies data\n",
    "\n",
    "movies_data = df[df.type=='Movie']"
   ]
  },
  {
   "cell_type": "code",
   "execution_count": 37,
   "id": "09df73b4",
   "metadata": {},
   "outputs": [
    {
     "data": {
      "text/html": [
       "<div>\n",
       "<style scoped>\n",
       "    .dataframe tbody tr th:only-of-type {\n",
       "        vertical-align: middle;\n",
       "    }\n",
       "\n",
       "    .dataframe tbody tr th {\n",
       "        vertical-align: top;\n",
       "    }\n",
       "\n",
       "    .dataframe thead th {\n",
       "        text-align: right;\n",
       "    }\n",
       "</style>\n",
       "<table border=\"1\" class=\"dataframe\">\n",
       "  <thead>\n",
       "    <tr style=\"text-align: right;\">\n",
       "      <th></th>\n",
       "      <th>show_id</th>\n",
       "      <th>type</th>\n",
       "      <th>title</th>\n",
       "      <th>director</th>\n",
       "      <th>cast</th>\n",
       "      <th>country</th>\n",
       "      <th>date_added</th>\n",
       "      <th>release_year</th>\n",
       "      <th>rating</th>\n",
       "      <th>duration</th>\n",
       "      <th>listed_in</th>\n",
       "      <th>description</th>\n",
       "      <th>year_added</th>\n",
       "    </tr>\n",
       "  </thead>\n",
       "  <tbody>\n",
       "    <tr>\n",
       "      <th>95202</th>\n",
       "      <td>s4311</td>\n",
       "      <td>Movie</td>\n",
       "      <td>My Daddy is in Heaven</td>\n",
       "      <td>Waymon Boone</td>\n",
       "      <td>Jill Morrison</td>\n",
       "      <td>United States</td>\n",
       "      <td>2018-06-12</td>\n",
       "      <td>2017</td>\n",
       "      <td>TV-14</td>\n",
       "      <td>95 min</td>\n",
       "      <td>Faith &amp; Spirituality</td>\n",
       "      <td>After the sudden loss of her husband, a mother...</td>\n",
       "      <td>2018</td>\n",
       "    </tr>\n",
       "  </tbody>\n",
       "</table>\n",
       "</div>"
      ],
      "text/plain": [
       "      show_id   type                  title      director           cast  \\\n",
       "95202   s4311  Movie  My Daddy is in Heaven  Waymon Boone  Jill Morrison   \n",
       "\n",
       "             country date_added  release_year rating duration  \\\n",
       "95202  United States 2018-06-12          2017  TV-14   95 min   \n",
       "\n",
       "                  listed_in  \\\n",
       "95202  Faith & Spirituality   \n",
       "\n",
       "                                             description  year_added  \n",
       "95202  After the sudden loss of her husband, a mother...        2018  "
      ]
     },
     "execution_count": 37,
     "metadata": {},
     "output_type": "execute_result"
    }
   ],
   "source": [
    "movies_data.sample()"
   ]
  },
  {
   "cell_type": "code",
   "execution_count": 38,
   "id": "bf889ea0",
   "metadata": {},
   "outputs": [
    {
     "data": {
      "text/plain": [
       "show_id         0\n",
       "type            0\n",
       "title           0\n",
       "director        0\n",
       "cast            0\n",
       "country         0\n",
       "date_added      0\n",
       "release_year    0\n",
       "rating          0\n",
       "duration        0\n",
       "listed_in       0\n",
       "description     0\n",
       "year_added      0\n",
       "dtype: int64"
      ]
     },
     "execution_count": 38,
     "metadata": {},
     "output_type": "execute_result"
    }
   ],
   "source": [
    "movies_data.isna().sum()"
   ]
  },
  {
   "cell_type": "code",
   "execution_count": 39,
   "id": "29b52c7c",
   "metadata": {},
   "outputs": [],
   "source": [
    "#TV Show data\n",
    "\n",
    "tvshows_data = df[df.type=='TV Show']"
   ]
  },
  {
   "cell_type": "code",
   "execution_count": 40,
   "id": "d53204b5",
   "metadata": {},
   "outputs": [
    {
     "data": {
      "text/html": [
       "<div>\n",
       "<style scoped>\n",
       "    .dataframe tbody tr th:only-of-type {\n",
       "        vertical-align: middle;\n",
       "    }\n",
       "\n",
       "    .dataframe tbody tr th {\n",
       "        vertical-align: top;\n",
       "    }\n",
       "\n",
       "    .dataframe thead th {\n",
       "        text-align: right;\n",
       "    }\n",
       "</style>\n",
       "<table border=\"1\" class=\"dataframe\">\n",
       "  <thead>\n",
       "    <tr style=\"text-align: right;\">\n",
       "      <th></th>\n",
       "      <th>show_id</th>\n",
       "      <th>type</th>\n",
       "      <th>title</th>\n",
       "      <th>director</th>\n",
       "      <th>cast</th>\n",
       "      <th>country</th>\n",
       "      <th>date_added</th>\n",
       "      <th>release_year</th>\n",
       "      <th>rating</th>\n",
       "      <th>duration</th>\n",
       "      <th>listed_in</th>\n",
       "      <th>description</th>\n",
       "      <th>year_added</th>\n",
       "    </tr>\n",
       "  </thead>\n",
       "  <tbody>\n",
       "    <tr>\n",
       "      <th>150601</th>\n",
       "      <td>s6704</td>\n",
       "      <td>TV Show</td>\n",
       "      <td>The New Legends of Monkey</td>\n",
       "      <td>Unknown director</td>\n",
       "      <td>Jordan Mooney</td>\n",
       "      <td>New Zealand</td>\n",
       "      <td>2020-08-07</td>\n",
       "      <td>2020</td>\n",
       "      <td>TV-PG</td>\n",
       "      <td>2 Seasons</td>\n",
       "      <td>TV Sci-Fi &amp; Fantasy</td>\n",
       "      <td>A valiant girl liberates the Monkey King – a g...</td>\n",
       "      <td>2020</td>\n",
       "    </tr>\n",
       "  </tbody>\n",
       "</table>\n",
       "</div>"
      ],
      "text/plain": [
       "       show_id     type                      title          director  \\\n",
       "150601   s6704  TV Show  The New Legends of Monkey  Unknown director   \n",
       "\n",
       "                 cast      country date_added  release_year rating   duration  \\\n",
       "150601  Jordan Mooney  New Zealand 2020-08-07          2020  TV-PG  2 Seasons   \n",
       "\n",
       "                  listed_in  \\\n",
       "150601  TV Sci-Fi & Fantasy   \n",
       "\n",
       "                                              description  year_added  \n",
       "150601  A valiant girl liberates the Monkey King – a g...        2020  "
      ]
     },
     "execution_count": 40,
     "metadata": {},
     "output_type": "execute_result"
    }
   ],
   "source": [
    "tvshows_data.sample()"
   ]
  },
  {
   "cell_type": "code",
   "execution_count": 41,
   "id": "464128c1",
   "metadata": {},
   "outputs": [
    {
     "data": {
      "text/plain": [
       "show_id         0\n",
       "type            0\n",
       "title           0\n",
       "director        0\n",
       "cast            0\n",
       "country         0\n",
       "date_added      0\n",
       "release_year    0\n",
       "rating          0\n",
       "duration        0\n",
       "listed_in       0\n",
       "description     0\n",
       "year_added      0\n",
       "dtype: int64"
      ]
     },
     "execution_count": 41,
     "metadata": {},
     "output_type": "execute_result"
    }
   ],
   "source": [
    "tvshows_data.isna().sum()"
   ]
  },
  {
   "cell_type": "code",
   "execution_count": 42,
   "id": "8d16972c",
   "metadata": {},
   "outputs": [],
   "source": [
    "# Extract the number of minutes from the 'duration' column for movies\n",
    "# Extract the number of seasons from the 'duration' column for TV shows\n",
    "\n",
    "movies_data = df[df['type'] == 'Movie'].copy()\n",
    "movies_data['runtime_in_mins'] = movies_data['duration'].str.split(' ').str[0]\n",
    "\n",
    "tvshows_data = df[df['type'] == 'TV Show'].copy()\n",
    "tvshows_data['no_of_seasons'] = tvshows_data['duration'].str.split(' ').str[0]\n"
   ]
  },
  {
   "cell_type": "code",
   "execution_count": 43,
   "id": "88596ee1",
   "metadata": {},
   "outputs": [
    {
     "data": {
      "text/html": [
       "<div>\n",
       "<style scoped>\n",
       "    .dataframe tbody tr th:only-of-type {\n",
       "        vertical-align: middle;\n",
       "    }\n",
       "\n",
       "    .dataframe tbody tr th {\n",
       "        vertical-align: top;\n",
       "    }\n",
       "\n",
       "    .dataframe thead th {\n",
       "        text-align: right;\n",
       "    }\n",
       "</style>\n",
       "<table border=\"1\" class=\"dataframe\">\n",
       "  <thead>\n",
       "    <tr style=\"text-align: right;\">\n",
       "      <th></th>\n",
       "      <th>show_id</th>\n",
       "      <th>type</th>\n",
       "      <th>title</th>\n",
       "      <th>director</th>\n",
       "      <th>cast</th>\n",
       "      <th>country</th>\n",
       "      <th>date_added</th>\n",
       "      <th>release_year</th>\n",
       "      <th>rating</th>\n",
       "      <th>duration</th>\n",
       "      <th>listed_in</th>\n",
       "      <th>description</th>\n",
       "      <th>year_added</th>\n",
       "      <th>runtime_in_mins</th>\n",
       "    </tr>\n",
       "  </thead>\n",
       "  <tbody>\n",
       "    <tr>\n",
       "      <th>5476</th>\n",
       "      <td>s246</td>\n",
       "      <td>Movie</td>\n",
       "      <td>A Twelve Year Night</td>\n",
       "      <td>Álvaro Brechner</td>\n",
       "      <td>Mirella Pascual</td>\n",
       "      <td>Uruguay</td>\n",
       "      <td>2018-12-28</td>\n",
       "      <td>2018</td>\n",
       "      <td>TV-MA</td>\n",
       "      <td>122 min</td>\n",
       "      <td>Dramas</td>\n",
       "      <td>Future Uruguayan president José Mujica and his...</td>\n",
       "      <td>2018</td>\n",
       "      <td>122</td>\n",
       "    </tr>\n",
       "  </tbody>\n",
       "</table>\n",
       "</div>"
      ],
      "text/plain": [
       "     show_id   type                title         director             cast  \\\n",
       "5476    s246  Movie  A Twelve Year Night  Álvaro Brechner  Mirella Pascual   \n",
       "\n",
       "      country date_added  release_year rating duration listed_in  \\\n",
       "5476  Uruguay 2018-12-28          2018  TV-MA  122 min    Dramas   \n",
       "\n",
       "                                            description  year_added  \\\n",
       "5476  Future Uruguayan president José Mujica and his...        2018   \n",
       "\n",
       "     runtime_in_mins  \n",
       "5476             122  "
      ]
     },
     "execution_count": 43,
     "metadata": {},
     "output_type": "execute_result"
    }
   ],
   "source": [
    "movies_data.sample()"
   ]
  },
  {
   "cell_type": "code",
   "execution_count": 44,
   "id": "4c66b9c4",
   "metadata": {},
   "outputs": [
    {
     "data": {
      "text/html": [
       "<div>\n",
       "<style scoped>\n",
       "    .dataframe tbody tr th:only-of-type {\n",
       "        vertical-align: middle;\n",
       "    }\n",
       "\n",
       "    .dataframe tbody tr th {\n",
       "        vertical-align: top;\n",
       "    }\n",
       "\n",
       "    .dataframe thead th {\n",
       "        text-align: right;\n",
       "    }\n",
       "</style>\n",
       "<table border=\"1\" class=\"dataframe\">\n",
       "  <thead>\n",
       "    <tr style=\"text-align: right;\">\n",
       "      <th></th>\n",
       "      <th>show_id</th>\n",
       "      <th>type</th>\n",
       "      <th>title</th>\n",
       "      <th>director</th>\n",
       "      <th>cast</th>\n",
       "      <th>country</th>\n",
       "      <th>date_added</th>\n",
       "      <th>release_year</th>\n",
       "      <th>rating</th>\n",
       "      <th>duration</th>\n",
       "      <th>listed_in</th>\n",
       "      <th>description</th>\n",
       "      <th>year_added</th>\n",
       "      <th>no_of_seasons</th>\n",
       "    </tr>\n",
       "  </thead>\n",
       "  <tbody>\n",
       "    <tr>\n",
       "      <th>115093</th>\n",
       "      <td>s5217</td>\n",
       "      <td>TV Show</td>\n",
       "      <td>Rise of Empires: Ottoman</td>\n",
       "      <td>Unknown director</td>\n",
       "      <td>Damla Sönmez</td>\n",
       "      <td>Unknown</td>\n",
       "      <td>2020-01-24</td>\n",
       "      <td>2020</td>\n",
       "      <td>TV-MA</td>\n",
       "      <td>1 Season</td>\n",
       "      <td>Docuseries</td>\n",
       "      <td>Ottoman Sultan Mehmed II wages an epic campaig...</td>\n",
       "      <td>2020</td>\n",
       "      <td>1</td>\n",
       "    </tr>\n",
       "  </tbody>\n",
       "</table>\n",
       "</div>"
      ],
      "text/plain": [
       "       show_id     type                     title          director  \\\n",
       "115093   s5217  TV Show  Rise of Empires: Ottoman  Unknown director   \n",
       "\n",
       "                cast  country date_added  release_year rating  duration  \\\n",
       "115093  Damla Sönmez  Unknown 2020-01-24          2020  TV-MA  1 Season   \n",
       "\n",
       "         listed_in                                        description  \\\n",
       "115093  Docuseries  Ottoman Sultan Mehmed II wages an epic campaig...   \n",
       "\n",
       "        year_added no_of_seasons  \n",
       "115093        2020             1  "
      ]
     },
     "execution_count": 44,
     "metadata": {},
     "output_type": "execute_result"
    }
   ],
   "source": [
    "tvshows_data.sample()"
   ]
  },
  {
   "cell_type": "code",
   "execution_count": 45,
   "id": "0c6f0698",
   "metadata": {},
   "outputs": [
    {
     "data": {
      "text/plain": [
       "show_id                    object\n",
       "type                       object\n",
       "title                      object\n",
       "director                   object\n",
       "cast                       object\n",
       "country                    object\n",
       "date_added         datetime64[ns]\n",
       "release_year                int64\n",
       "rating                     object\n",
       "duration                   object\n",
       "listed_in                  object\n",
       "description                object\n",
       "year_added                  int64\n",
       "runtime_in_mins            object\n",
       "dtype: object"
      ]
     },
     "execution_count": 45,
     "metadata": {},
     "output_type": "execute_result"
    }
   ],
   "source": [
    "movies_data.dtypes"
   ]
  },
  {
   "cell_type": "code",
   "execution_count": 46,
   "id": "dc7fbb2d",
   "metadata": {},
   "outputs": [],
   "source": [
    "# Convert the 'runtime_in_mins' column to integer type\n",
    "\n",
    "movies_data.runtime_in_mins = movies_data.runtime_in_mins.astype(int)"
   ]
  },
  {
   "cell_type": "code",
   "execution_count": 47,
   "id": "6e6374bd",
   "metadata": {},
   "outputs": [
    {
     "data": {
      "text/plain": [
       "show_id                    object\n",
       "type                       object\n",
       "title                      object\n",
       "director                   object\n",
       "cast                       object\n",
       "country                    object\n",
       "date_added         datetime64[ns]\n",
       "release_year                int64\n",
       "rating                     object\n",
       "duration                   object\n",
       "listed_in                  object\n",
       "description                object\n",
       "year_added                  int64\n",
       "runtime_in_mins             int32\n",
       "dtype: object"
      ]
     },
     "execution_count": 47,
     "metadata": {},
     "output_type": "execute_result"
    }
   ],
   "source": [
    "movies_data.dtypes"
   ]
  },
  {
   "cell_type": "code",
   "execution_count": 48,
   "id": "8a8fceb3",
   "metadata": {},
   "outputs": [],
   "source": [
    "# Drop the 'description' and 'duration' columns from the movies_data DataFrame and reset the index\n",
    "\n",
    "movies_data = movies_data.drop(columns=['description','duration']).reset_index(drop=True)"
   ]
  },
  {
   "cell_type": "code",
   "execution_count": 49,
   "id": "4dc8ec7d",
   "metadata": {},
   "outputs": [
    {
     "data": {
      "text/plain": [
       "show_id                  object\n",
       "type                     object\n",
       "title                    object\n",
       "director                 object\n",
       "cast                     object\n",
       "country                  object\n",
       "date_added       datetime64[ns]\n",
       "release_year              int64\n",
       "rating                   object\n",
       "duration                 object\n",
       "listed_in                object\n",
       "description              object\n",
       "year_added                int64\n",
       "no_of_seasons            object\n",
       "dtype: object"
      ]
     },
     "execution_count": 49,
     "metadata": {},
     "output_type": "execute_result"
    }
   ],
   "source": [
    "tvshows_data.dtypes"
   ]
  },
  {
   "cell_type": "code",
   "execution_count": 50,
   "id": "a8c91b5d",
   "metadata": {},
   "outputs": [],
   "source": [
    "# Convert the 'no_of_seasons' column to integer type\n",
    "\n",
    "tvshows_data.no_of_seasons = tvshows_data.no_of_seasons.astype(int)"
   ]
  },
  {
   "cell_type": "code",
   "execution_count": 51,
   "id": "d1111757",
   "metadata": {},
   "outputs": [
    {
     "data": {
      "text/plain": [
       "show_id                  object\n",
       "type                     object\n",
       "title                    object\n",
       "director                 object\n",
       "cast                     object\n",
       "country                  object\n",
       "date_added       datetime64[ns]\n",
       "release_year              int64\n",
       "rating                   object\n",
       "duration                 object\n",
       "listed_in                object\n",
       "description              object\n",
       "year_added                int64\n",
       "no_of_seasons             int32\n",
       "dtype: object"
      ]
     },
     "execution_count": 51,
     "metadata": {},
     "output_type": "execute_result"
    }
   ],
   "source": [
    "tvshows_data.dtypes"
   ]
  },
  {
   "cell_type": "code",
   "execution_count": 52,
   "id": "ed8785eb",
   "metadata": {},
   "outputs": [],
   "source": [
    "# Drop the 'description' and 'duration' columns from the tvshows_data DataFrame and reset the index\n",
    "\n",
    "tvshows_data = tvshows_data.drop(columns=['description','duration']).reset_index(drop=True)"
   ]
  },
  {
   "cell_type": "code",
   "execution_count": 53,
   "id": "0bf2e1d1",
   "metadata": {},
   "outputs": [
    {
     "data": {
      "text/html": [
       "<div>\n",
       "<style scoped>\n",
       "    .dataframe tbody tr th:only-of-type {\n",
       "        vertical-align: middle;\n",
       "    }\n",
       "\n",
       "    .dataframe tbody tr th {\n",
       "        vertical-align: top;\n",
       "    }\n",
       "\n",
       "    .dataframe thead th {\n",
       "        text-align: right;\n",
       "    }\n",
       "</style>\n",
       "<table border=\"1\" class=\"dataframe\">\n",
       "  <thead>\n",
       "    <tr style=\"text-align: right;\">\n",
       "      <th></th>\n",
       "      <th>show_id</th>\n",
       "      <th>type</th>\n",
       "      <th>title</th>\n",
       "      <th>director</th>\n",
       "      <th>cast</th>\n",
       "      <th>country</th>\n",
       "      <th>date_added</th>\n",
       "      <th>release_year</th>\n",
       "      <th>rating</th>\n",
       "      <th>listed_in</th>\n",
       "      <th>year_added</th>\n",
       "      <th>no_of_seasons</th>\n",
       "    </tr>\n",
       "  </thead>\n",
       "  <tbody>\n",
       "    <tr>\n",
       "      <th>33117</th>\n",
       "      <td>s5356</td>\n",
       "      <td>TV Show</td>\n",
       "      <td>Sam &amp; Cat</td>\n",
       "      <td>Unknown director</td>\n",
       "      <td>Eduardo Drummond</td>\n",
       "      <td>United States</td>\n",
       "      <td>2019-11-05</td>\n",
       "      <td>2014</td>\n",
       "      <td>TV-PG</td>\n",
       "      <td>Kids' TV</td>\n",
       "      <td>2019</td>\n",
       "      <td>2</td>\n",
       "    </tr>\n",
       "    <tr>\n",
       "      <th>40539</th>\n",
       "      <td>s6465</td>\n",
       "      <td>TV Show</td>\n",
       "      <td>The House of Flowers</td>\n",
       "      <td>Unknown director</td>\n",
       "      <td>Verónica Castro</td>\n",
       "      <td>Mexico</td>\n",
       "      <td>2020-04-23</td>\n",
       "      <td>2020</td>\n",
       "      <td>TV-MA</td>\n",
       "      <td>TV Comedies</td>\n",
       "      <td>2020</td>\n",
       "      <td>3</td>\n",
       "    </tr>\n",
       "    <tr>\n",
       "      <th>7722</th>\n",
       "      <td>s1413</td>\n",
       "      <td>TV Show</td>\n",
       "      <td>Classic Legends</td>\n",
       "      <td>Unknown director</td>\n",
       "      <td>Javed Akhtar</td>\n",
       "      <td>India</td>\n",
       "      <td>2017-05-15</td>\n",
       "      <td>2012</td>\n",
       "      <td>TV-PG</td>\n",
       "      <td>International TV Shows</td>\n",
       "      <td>2017</td>\n",
       "      <td>1</td>\n",
       "    </tr>\n",
       "    <tr>\n",
       "      <th>11612</th>\n",
       "      <td>s1872</td>\n",
       "      <td>TV Show</td>\n",
       "      <td>DreamWorks Shrek's Swamp Stories</td>\n",
       "      <td>Unknown director</td>\n",
       "      <td>Mike Myers</td>\n",
       "      <td>United States</td>\n",
       "      <td>2020-02-17</td>\n",
       "      <td>2008</td>\n",
       "      <td>TV-PG</td>\n",
       "      <td>Kids' TV</td>\n",
       "      <td>2020</td>\n",
       "      <td>1</td>\n",
       "    </tr>\n",
       "  </tbody>\n",
       "</table>\n",
       "</div>"
      ],
      "text/plain": [
       "      show_id     type                             title          director  \\\n",
       "33117   s5356  TV Show                         Sam & Cat  Unknown director   \n",
       "40539   s6465  TV Show              The House of Flowers  Unknown director   \n",
       "7722    s1413  TV Show                   Classic Legends  Unknown director   \n",
       "11612   s1872  TV Show  DreamWorks Shrek's Swamp Stories  Unknown director   \n",
       "\n",
       "                   cast        country date_added  release_year rating  \\\n",
       "33117  Eduardo Drummond  United States 2019-11-05          2014  TV-PG   \n",
       "40539   Verónica Castro         Mexico 2020-04-23          2020  TV-MA   \n",
       "7722       Javed Akhtar          India 2017-05-15          2012  TV-PG   \n",
       "11612        Mike Myers  United States 2020-02-17          2008  TV-PG   \n",
       "\n",
       "                    listed_in  year_added  no_of_seasons  \n",
       "33117                Kids' TV        2019              2  \n",
       "40539             TV Comedies        2020              3  \n",
       "7722   International TV Shows        2017              1  \n",
       "11612                Kids' TV        2020              1  "
      ]
     },
     "execution_count": 53,
     "metadata": {},
     "output_type": "execute_result"
    }
   ],
   "source": [
    "tvshows_data.sample(4)"
   ]
  },
  {
   "cell_type": "code",
   "execution_count": 54,
   "id": "265421ce",
   "metadata": {},
   "outputs": [],
   "source": [
    "# Drop the 'description' column from the original DataFrame and reset the index\n",
    "\n",
    "df = df.drop(columns=['description']).reset_index(drop=True)"
   ]
  },
  {
   "cell_type": "code",
   "execution_count": 55,
   "id": "5b63d961",
   "metadata": {},
   "outputs": [
    {
     "data": {
      "text/html": [
       "<div>\n",
       "<style scoped>\n",
       "    .dataframe tbody tr th:only-of-type {\n",
       "        vertical-align: middle;\n",
       "    }\n",
       "\n",
       "    .dataframe tbody tr th {\n",
       "        vertical-align: top;\n",
       "    }\n",
       "\n",
       "    .dataframe thead th {\n",
       "        text-align: right;\n",
       "    }\n",
       "</style>\n",
       "<table border=\"1\" class=\"dataframe\">\n",
       "  <thead>\n",
       "    <tr style=\"text-align: right;\">\n",
       "      <th></th>\n",
       "      <th>show_id</th>\n",
       "      <th>type</th>\n",
       "      <th>title</th>\n",
       "      <th>director</th>\n",
       "      <th>cast</th>\n",
       "      <th>country</th>\n",
       "      <th>date_added</th>\n",
       "      <th>release_year</th>\n",
       "      <th>rating</th>\n",
       "      <th>duration</th>\n",
       "      <th>listed_in</th>\n",
       "      <th>year_added</th>\n",
       "    </tr>\n",
       "  </thead>\n",
       "  <tbody>\n",
       "    <tr>\n",
       "      <th>0</th>\n",
       "      <td>s1</td>\n",
       "      <td>TV Show</td>\n",
       "      <td>3%</td>\n",
       "      <td>Unknown director</td>\n",
       "      <td>João Miguel</td>\n",
       "      <td>Brazil</td>\n",
       "      <td>2020-08-14</td>\n",
       "      <td>2020</td>\n",
       "      <td>TV-MA</td>\n",
       "      <td>4 Seasons</td>\n",
       "      <td>International TV Shows</td>\n",
       "      <td>2020</td>\n",
       "    </tr>\n",
       "    <tr>\n",
       "      <th>1</th>\n",
       "      <td>s1</td>\n",
       "      <td>TV Show</td>\n",
       "      <td>3%</td>\n",
       "      <td>Unknown director</td>\n",
       "      <td>João Miguel</td>\n",
       "      <td>Brazil</td>\n",
       "      <td>2020-08-14</td>\n",
       "      <td>2020</td>\n",
       "      <td>TV-MA</td>\n",
       "      <td>4 Seasons</td>\n",
       "      <td>TV Dramas</td>\n",
       "      <td>2020</td>\n",
       "    </tr>\n",
       "    <tr>\n",
       "      <th>2</th>\n",
       "      <td>s1</td>\n",
       "      <td>TV Show</td>\n",
       "      <td>3%</td>\n",
       "      <td>Unknown director</td>\n",
       "      <td>João Miguel</td>\n",
       "      <td>Brazil</td>\n",
       "      <td>2020-08-14</td>\n",
       "      <td>2020</td>\n",
       "      <td>TV-MA</td>\n",
       "      <td>4 Seasons</td>\n",
       "      <td>TV Sci-Fi &amp; Fantasy</td>\n",
       "      <td>2020</td>\n",
       "    </tr>\n",
       "    <tr>\n",
       "      <th>3</th>\n",
       "      <td>s1</td>\n",
       "      <td>TV Show</td>\n",
       "      <td>3%</td>\n",
       "      <td>Unknown director</td>\n",
       "      <td>Bianca Comparato</td>\n",
       "      <td>Brazil</td>\n",
       "      <td>2020-08-14</td>\n",
       "      <td>2020</td>\n",
       "      <td>TV-MA</td>\n",
       "      <td>4 Seasons</td>\n",
       "      <td>International TV Shows</td>\n",
       "      <td>2020</td>\n",
       "    </tr>\n",
       "    <tr>\n",
       "      <th>4</th>\n",
       "      <td>s1</td>\n",
       "      <td>TV Show</td>\n",
       "      <td>3%</td>\n",
       "      <td>Unknown director</td>\n",
       "      <td>Bianca Comparato</td>\n",
       "      <td>Brazil</td>\n",
       "      <td>2020-08-14</td>\n",
       "      <td>2020</td>\n",
       "      <td>TV-MA</td>\n",
       "      <td>4 Seasons</td>\n",
       "      <td>TV Dramas</td>\n",
       "      <td>2020</td>\n",
       "    </tr>\n",
       "  </tbody>\n",
       "</table>\n",
       "</div>"
      ],
      "text/plain": [
       "  show_id     type title          director              cast country  \\\n",
       "0      s1  TV Show    3%  Unknown director       João Miguel  Brazil   \n",
       "1      s1  TV Show    3%  Unknown director       João Miguel  Brazil   \n",
       "2      s1  TV Show    3%  Unknown director       João Miguel  Brazil   \n",
       "3      s1  TV Show    3%  Unknown director  Bianca Comparato  Brazil   \n",
       "4      s1  TV Show    3%  Unknown director  Bianca Comparato  Brazil   \n",
       "\n",
       "  date_added  release_year rating   duration               listed_in  \\\n",
       "0 2020-08-14          2020  TV-MA  4 Seasons  International TV Shows   \n",
       "1 2020-08-14          2020  TV-MA  4 Seasons               TV Dramas   \n",
       "2 2020-08-14          2020  TV-MA  4 Seasons     TV Sci-Fi & Fantasy   \n",
       "3 2020-08-14          2020  TV-MA  4 Seasons  International TV Shows   \n",
       "4 2020-08-14          2020  TV-MA  4 Seasons               TV Dramas   \n",
       "\n",
       "   year_added  \n",
       "0        2020  \n",
       "1        2020  \n",
       "2        2020  \n",
       "3        2020  \n",
       "4        2020  "
      ]
     },
     "execution_count": 55,
     "metadata": {},
     "output_type": "execute_result"
    }
   ],
   "source": [
    "df.head()"
   ]
  },
  {
   "cell_type": "code",
   "execution_count": 56,
   "id": "a347cb49",
   "metadata": {},
   "outputs": [
    {
     "data": {
      "text/plain": [
       "Movie      126091\n",
       "TV Show     49944\n",
       "Name: type, dtype: int64"
      ]
     },
     "execution_count": 56,
     "metadata": {},
     "output_type": "execute_result"
    }
   ],
   "source": [
    "df.type.value_counts()"
   ]
  },
  {
   "cell_type": "code",
   "execution_count": 57,
   "id": "4a527906",
   "metadata": {},
   "outputs": [],
   "source": [
    "# saving the files for further analysis:\n",
    "\n",
    "df.to_csv('netflix_data.csv',sep=',',index=False)\n",
    "movies_data.to_csv('movies_data.csv',sep=',',index=False)\n",
    "tvshows_data.to_csv('tvshows_data.csv',sep=',',index=False)"
   ]
  },
  {
   "cell_type": "markdown",
   "id": "27e6ee7f",
   "metadata": {},
   "source": [
    "# Exploration of Data Analysis (EDA)"
   ]
  },
  {
   "cell_type": "code",
   "execution_count": 58,
   "id": "ec7fb785",
   "metadata": {},
   "outputs": [],
   "source": [
    "nd = pd.read_csv('netflix_data.csv')\n",
    "md = pd.read_csv('movies_data.csv')\n",
    "tvd = pd.read_csv('tvshows_data.csv')"
   ]
  },
  {
   "cell_type": "markdown",
   "id": "badb2130",
   "metadata": {},
   "source": [
    "**How contents are distributed in Netflix?**"
   ]
  },
  {
   "cell_type": "code",
   "execution_count": 59,
   "id": "705e16b9",
   "metadata": {},
   "outputs": [
    {
     "data": {
      "image/png": "[encoded data removed]",
      "text/plain": [
       "<Figure size 640x480 with 1 Axes>"
      ]
     },
     "metadata": {},
     "output_type": "display_data"
    }
   ],
   "source": [
    "ax = sns.countplot(data=df, x='type', order=df['type'].value_counts().index)\n",
    "plt.title(\"Content Type Distribution\")\n",
    "total = len(df)\n",
    "for p in ax.patches:\n",
    "    percentage = f'{100 * p.get_height() / total:.1f}%'\n",
    "    ax.annotate(percentage, (p.get_x() + p.get_width() / 2., p.get_height()),\n",
    "                ha='center', va='bottom')\n",
    "\n",
    "plt.show()"
   ]
  },
  {
   "cell_type": "markdown",
   "id": "a56afc54",
   "metadata": {},
   "source": [
    "**insight:** Movies make up the majority of content on Netflix, but TV Shows also have a significant presence, indicating Netflix’s growing focus on serialized content."
   ]
  },
  {
   "cell_type": "markdown",
   "id": "5aa5c124",
   "metadata": {},
   "source": [
    "**How Netflix Content Varies Across Countries?**"
   ]
  },
  {
   "cell_type": "code",
   "execution_count": 60,
   "id": "7e2ebaf1",
   "metadata": {},
   "outputs": [
    {
     "data": {
      "image/png": "[encoded data removed]",
      "text/plain": [
       "<Figure size 640x480 with 1 Axes>"
      ]
     },
     "metadata": {},
     "output_type": "display_data"
    }
   ],
   "source": [
    "top_countries = df['country'].value_counts().head(10)\n",
    "sns.barplot(y=top_countries.index, x=top_countries.values)\n",
    "plt.title(\"Top 10 Countries with Most Netflix Content\")\n",
    "plt.xlabel(\"Number of Titles\")\n",
    "plt.ylabel(\"Country\")\n",
    "plt.show()\n"
   ]
  },
  {
   "cell_type": "markdown",
   "id": "7f9a59ab",
   "metadata": {},
   "source": [
    "**insight:** The U.S. dominates Netflix’s catalog, followed by India and the UK. India leans more toward movies, while others show a balanced mix of movies and TV shows."
   ]
  },
  {
   "cell_type": "markdown",
   "id": "604ce5db",
   "metadata": {},
   "source": [
    "**Has Netflix Shifted Its Focus from Movies to TV Shows in Recent Years?**"
   ]
  },
  {
   "cell_type": "code",
   "execution_count": 61,
   "id": "cd6e6606",
   "metadata": {},
   "outputs": [
    {
     "data": {
      "image/png": "[encoded data removed]",
      "text/plain": [
       "<Figure size 1200x600 with 1 Axes>"
      ]
     },
     "metadata": {},
     "output_type": "display_data"
    }
   ],
   "source": [
    "year_type_counts = df.groupby(['release_year', 'type']).size().unstack().fillna(0)\n",
    "plt.figure(figsize=(12, 6))\n",
    "year_type_counts.plot(kind='line', ax=plt.gca(), marker='o')\n",
    "plt.title(\"Netflix Content Trend: Movies vs TV Shows\")\n",
    "plt.xlabel(\"Release Year\")\n",
    "plt.ylabel(\"Number of Unique Titles\")\n",
    "plt.legend(title=\"Type\")\n",
    "plt.grid(True)\n",
    "plt.tight_layout()\n",
    "plt.show()"
   ]
  },
  {
   "cell_type": "markdown",
   "id": "24df95e0",
   "metadata": {},
   "source": [
    "**insight:** The chart highlights a shift in Netflix's content strategy, with movies dominating until 2016-2018. From 2019 onwards, TV shows have steadily increased, outpacing movies since 2020. This pivot toward serialized content aligns with the industry's focus on binge-worthy series to drive user engagement and retention.\n"
   ]
  },
  {
   "cell_type": "markdown",
   "id": "b5d4765f",
   "metadata": {},
   "source": [
    "**Univariate Analysis**"
   ]
  },
  {
   "cell_type": "code",
   "execution_count": 62,
   "id": "ca3751d7",
   "metadata": {},
   "outputs": [
    {
     "data": {
      "image/png": "[encoded data removed]",
      "text/plain": [
       "<Figure size 1000x600 with 1 Axes>"
      ]
     },
     "metadata": {},
     "output_type": "display_data"
    }
   ],
   "source": [
    "# Top 10 ratings\n",
    "\n",
    "plt.figure(figsize=(10, 6))\n",
    "top_ratings = df['rating'].value_counts().head(10)\n",
    "sns.barplot(y=top_ratings.index, x=top_ratings.values, palette=\"cubehelix\")\n",
    "plt.title(\"Top 10 Ratings\")\n",
    "plt.xlabel(\"Count\")\n",
    "plt.ylabel(\"Rating\")\n",
    "plt.tight_layout()\n",
    "plt.show()"
   ]
  },
  {
   "cell_type": "markdown",
   "id": "63e44b4c",
   "metadata": {},
   "source": [
    "**insight:**\n",
    "- TV-MA is the most common rating on Netflix.\n",
    "\n",
    "- Followed by TV-14 and TV-PG.\n",
    "\n",
    "- Mature content (TV-MA, R) dominates the platform.\n",
    "\n",
    "- Kids’ content (TV-Y, TV-Y7, PG, TV-G) is present but less frequent.\n",
    "\n",
    "- NR (Not Rated) has the fewest entries among the top 10."
   ]
  },
  {
   "cell_type": "markdown",
   "id": "2e7a9d6b",
   "metadata": {},
   "source": [
    "**Bivariate Analysis**"
   ]
  },
  {
   "cell_type": "code",
   "execution_count": 63,
   "id": "53236a58",
   "metadata": {},
   "outputs": [
    {
     "data": {
      "image/png": "[encoded data removed]",
      "text/plain": [
       "<Figure size 1000x600 with 1 Axes>"
      ]
     },
     "metadata": {},
     "output_type": "display_data"
    }
   ],
   "source": [
    "# Rating vs Duration (Numerical - Categorical)\n",
    "\n",
    "df['duration_int'] = df['duration'].str.extract('(\\d+)').astype(float)\n",
    "df['duration_type'] = df['duration'].str.extract('(min|Season)')\n",
    "plt.figure(figsize=(10, 6))\n",
    "sns.boxplot(data=df[df['type'] == 'Movie'], x='rating', y='duration_int', palette=\"coolwarm\")\n",
    "plt.title(\"Movie Duration by Rating\")\n",
    "plt.xticks(rotation=45)\n",
    "plt.tight_layout()\n",
    "plt.show()"
   ]
  },
  {
   "cell_type": "markdown",
   "id": "2f603d75",
   "metadata": {},
   "source": [
    "**insight:**\n",
    "- TV-MA, R, PG-13, TV-14 → Longer durations.\n",
    "\n",
    "- TV-Y, TV-G, G → Shorter durations.\n",
    "\n",
    "- TV-14 → Widest range.\n",
    "\n",
    "- UR → Consistent durations.\n",
    "\n",
    "- Many outliers in mature categories."
   ]
  },
  {
   "cell_type": "markdown",
   "id": "15cc5f42",
   "metadata": {},
   "source": [
    "**Multivariate Analysis**"
   ]
  },
  {
   "cell_type": "code",
   "execution_count": 64,
   "id": "efb19405",
   "metadata": {},
   "outputs": [
    {
     "data": {
      "image/png": "[encoded data removed]",
      "text/plain": [
       "<Figure size 1200x500 with 1 Axes>"
      ]
     },
     "metadata": {},
     "output_type": "display_data"
    }
   ],
   "source": [
    "# Genre vs Type Analysis\n",
    "\n",
    "df['genre_main'] = df['listed_in'].str.split(',').str[0]\n",
    "plt.figure(figsize=(12, 5))\n",
    "sns.countplot(data=df, y='genre_main', hue='type', order=df['genre_main'].value_counts().index[:10], palette='Set3')\n",
    "plt.title(\"Top Genres by Content Type\")\n",
    "plt.tight_layout()\n",
    "plt.show()"
   ]
  },
  {
   "cell_type": "markdown",
   "id": "95696882",
   "metadata": {},
   "source": [
    "**insight:**\n",
    "- Dramas and Comedies are the most popular genres, mostly as Movies.\n",
    "\n",
    "- International TV Shows, Crime TV Shows, and Kids' TV are dominated by TV Shows.\n",
    "\n",
    "- Documentaries and Action & Adventure are common in both Movies and TV Shows.\n",
    "\n",
    "- Children & Family Movies, Stand-Up Comedy, and Horror Movies are mostly Movies."
   ]
  },
  {
   "cell_type": "markdown",
   "id": "a5035951",
   "metadata": {},
   "source": [
    "# Solution to Business Objective \n",
    "\n",
    "To achieve the business objective, we recommend that the client leverage data analysis to understand content trends across time and regions. By performing exploratory analysis, Netflix can track the shift from movies to TV shows and identify which types of content are most prevalent in different countries.Integrating external data like IMDb or Rotten Tomatoes ratings can also guide quality-focused content decisions. Ultimately, these insights can support Netflix in tailoring its catalog by region, enhancing viewer engagement, and optimizing its global content strategy."
   ]
  },
  {
   "cell_type": "markdown",
   "id": "c0a8feea",
   "metadata": {},
   "source": [
    "# 🧾Conclusion\n",
    "\n",
    "This project provides valuable insights into Netflix's evolving content strategy and global catalog distribution. Through exploratory data analysis, we observed a clear shift from movies to TV shows over recent years, reflecting changing viewer preferences and strategic business decisions. Analyzing content by country revealed regional differences in content types and potential opportunities for localized offerings. By integrating external ratings data, Netflix can also focus on content quality. These findings empower the client to make data-driven decisions to enhance user satisfaction, retention, and market-specific content strategies.\n"
   ]
  },
  {
   "cell_type": "code",
   "execution_count": null,
   "id": "3dc19eee",
   "metadata": {},
   "outputs": [],
   "source": []
  }
 ],
 "metadata": {
  "kernelspec": {
   "display_name": "Python 3 (ipykernel)",
   "language": "python",
   "name": "python3"
  },
  "language_info": {
   "codemirror_mode": {
    "name": "ipython",
    "version": 3
   },
   "file_extension": ".py",
   "mimetype": "text/x-python",
   "name": "python",
   "nbconvert_exporter": "python",
   "pygments_lexer": "ipython3",
   "version": "3.9.13"
  }
 },
 "nbformat": 4,
 "nbformat_minor": 5
}
